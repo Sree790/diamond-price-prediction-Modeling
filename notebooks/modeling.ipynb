{
 "cells": [
  {
   "cell_type": "markdown",
   "metadata": {
    "editable": true,
    "slideshow": {
     "slide_type": ""
    },
    "tags": []
   },
   "source": [
    "\n",
    "# Diamonds Price Prediction\n",
    "\n",
    "This notebook focuses on building a predictive regression model to estimate the sales price of diamonds based on their characteristics. The workflow includes preparing the data, selecting relevant features, and training machine learning models to achieve accurate predictions.\n",
    "\n",
    "<!-- ## CONTENTS -->\n",
    "<!--\n",
    "    1. Importing Libraries\n",
    "\n",
    "    2. Data Loading and Preprocessing\n",
    "        - Load cleaned data\n",
    "        - Encoding\n",
    "\n",
    "    3. Model Training\n",
    "        - Base Model\n",
    "\n",
    "    4. Model Optimization:\n",
    "        i)   Feature Engineering\n",
    "        ii)  Normalization\n",
    "        iii) Model Selection\n",
    "    \n",
    "    5. Visualization\n",
    "   -->\n",
    "\n",
    "## CONTENTS\n",
    "\n",
    "    1. Importing Libraries\n",
    "\n",
    "    2. Data Loading and Understanding Dataset\n",
    "        • Load dataset\n",
    "        • Understand the data\n",
    "\n",
    "    3. Data Preprocessing\n",
    "        A. Data Cleaning\n",
    "            • Handle missing values and duplicates\n",
    "            • Fix inconsistent data and outliers\n",
    "\n",
    "        B. Feature Engineering\n",
    "            • Create new features\n",
    "            • Transformations\n",
    "\n",
    "        C. Encoding and Scaling\n",
    "            • Encode categorical variable\n",
    "                ○ one hot encoding vs ordinal\n",
    "            • Scale numerical features\n",
    "                ○ Standardization (StandardScaler)\n",
    "                ○ Normalization (MinMaxScaler)\n",
    "\n",
    "    4. Feature Selection\n",
    "\n",
    "    5. Modeling\n",
    "        A. Baseline Model\n",
    "            • Train a simple model\n",
    "            • Evaluate the performance benchmark\n",
    "        B. Model Selection\n",
    "            • Compare mutltiple algorithms\n",
    "            • Cross validation with Hyperparameter Tuning\n",
    "\n",
    "    6. Final Model Training and Evaluation\n",
    "\n",
    "    7. Deployment and Prediction\n"
   ]
  },
  {
   "cell_type": "markdown",
   "metadata": {
    "editable": true,
    "slideshow": {
     "slide_type": "notes"
    },
    "tags": []
   },
   "source": [
    "## 1. Importing Libraries"
   ]
  },
  {
   "cell_type": "code",
   "execution_count": 44,
   "metadata": {
    "execution": {
     "iopub.execute_input": "2025-04-18T09:39:45.620229Z",
     "iopub.status.busy": "2025-04-18T09:39:45.620229Z",
     "iopub.status.idle": "2025-04-18T09:39:50.948015Z",
     "shell.execute_reply": "2025-04-18T09:39:50.946064Z",
     "shell.execute_reply.started": "2025-04-18T09:39:45.620229Z"
    }
   },
   "outputs": [
    {
     "ename": "ImportError",
     "evalue": "cannot import name 'root_mean_squared_error' from 'sklearn.metrics' (c:\\Users\\tsree\\anaconda3\\envs\\ml_env\\lib\\site-packages\\sklearn\\metrics\\__init__.py)",
     "output_type": "error",
     "traceback": [
      "\u001b[1;31m---------------------------------------------------------------------------\u001b[0m",
      "\u001b[1;31mImportError\u001b[0m                               Traceback (most recent call last)",
      "Cell \u001b[1;32mIn[44], line 40\u001b[0m\n\u001b[0;32m     37\u001b[0m \u001b[38;5;28;01mfrom\u001b[39;00m \u001b[38;5;21;01msklearn\u001b[39;00m\u001b[38;5;21;01m.\u001b[39;00m\u001b[38;5;21;01mneighbors\u001b[39;00m \u001b[38;5;28;01mimport\u001b[39;00m KNeighborsRegressor\n\u001b[0;32m     38\u001b[0m \u001b[38;5;28;01mfrom\u001b[39;00m \u001b[38;5;21;01mxgboost\u001b[39;00m \u001b[38;5;28;01mimport\u001b[39;00m XGBRegressor\n\u001b[1;32m---> 40\u001b[0m \u001b[38;5;28;01mfrom\u001b[39;00m \u001b[38;5;21;01msklearn\u001b[39;00m\u001b[38;5;21;01m.\u001b[39;00m\u001b[38;5;21;01mmetrics\u001b[39;00m \u001b[38;5;28;01mimport\u001b[39;00m (\n\u001b[0;32m     41\u001b[0m     mean_squared_error, r2_score,\n\u001b[0;32m     42\u001b[0m     mean_absolute_error, mean_absolute_percentage_error, \n\u001b[0;32m     43\u001b[0m     median_absolute_error, make_scorer, root_mean_squared_error)\n\u001b[0;32m     45\u001b[0m \u001b[38;5;28;01mfrom\u001b[39;00m \u001b[38;5;21;01msklearn\u001b[39;00m\u001b[38;5;21;01m.\u001b[39;00m\u001b[38;5;21;01mpipeline\u001b[39;00m \u001b[38;5;28;01mimport\u001b[39;00m make_pipeline, Pipeline\n\u001b[0;32m     46\u001b[0m \u001b[38;5;28;01mfrom\u001b[39;00m \u001b[38;5;21;01msklearn\u001b[39;00m\u001b[38;5;21;01m.\u001b[39;00m\u001b[38;5;21;01mcompose\u001b[39;00m \u001b[38;5;28;01mimport\u001b[39;00m (\n\u001b[0;32m     47\u001b[0m     make_column_transformer, TransformedTargetRegressor, \n\u001b[0;32m     48\u001b[0m     make_column_selector, ColumnTransformer)\n",
      "\u001b[1;31mImportError\u001b[0m: cannot import name 'root_mean_squared_error' from 'sklearn.metrics' (c:\\Users\\tsree\\anaconda3\\envs\\ml_env\\lib\\site-packages\\sklearn\\metrics\\__init__.py)"
     ]
    }
   ],
   "source": [
    "import numpy as np\n",
    "import pandas as pd\n",
    "import matplotlib.pyplot as plt\n",
    "import seaborn as sns\n",
    "import pickle\n",
    "import timeit\n",
    "\n",
    "from tqdm.notebook import tqdm as tqdm_nb, trange as trange_nb\n",
    "from tqdm import tqdm\n",
    "import json, joblib\n",
    "# from tqdm.contrib.sklearn import progress_cross_val_score\n",
    "\n",
    "import warnings\n",
    "warnings.filterwarnings('ignore')\n",
    "\n",
    "from sklearn.feature_selection import SelectKBest, f_regression\n",
    "from sklearn.model_selection import (\n",
    "    train_test_split, \n",
    "    cross_validate, cross_val_score,\n",
    "    KFold, GridSearchCV, RandomizedSearchCV)\n",
    "\n",
    "from sklearn.preprocessing import (\n",
    "    StandardScaler,RobustScaler,\n",
    "    MinMaxScaler, \n",
    "    QuantileTransformer, quantile_transform,\n",
    "    Normalizer, power_transform, PowerTransformer,\n",
    "    PolynomialFeatures, \n",
    "    OneHotEncoder, OrdinalEncoder, LabelEncoder)\n",
    "from sklearn.impute import SimpleImputer\n",
    "\n",
    "from sklearn.linear_model import (\n",
    "    LinearRegression, Ridge, RidgeCV, Lasso, SGDRegressor)\n",
    "from sklearn.tree import DecisionTreeRegressor\n",
    "from sklearn.ensemble import RandomForestRegressor, \\\n",
    "    GradientBoostingRegressor, AdaBoostRegressor, \\\n",
    "        ExtraTreesRegressor, HistGradientBoostingRegressor\n",
    "from sklearn.neighbors import KNeighborsRegressor\n",
    "from xgboost import XGBRegressor\n",
    "\n",
    "from sklearn.metrics import (\n",
    "    mean_squared_error, r2_score,\n",
    "    mean_absolute_error, mean_absolute_percentage_error, \n",
    "    median_absolute_error, make_scorer, root_mean_squared_error)\n",
    "\n",
    "from sklearn.pipeline import make_pipeline, Pipeline\n",
    "from sklearn.compose import (\n",
    "    make_column_transformer, TransformedTargetRegressor, \n",
    "    make_column_selector, ColumnTransformer)\n",
    "\n",
    "from sklearn import svm\n",
    "from sklearn.svm import SVR, SVC\n",
    "from sklearn.decomposition import PCA\n",
    "import statsmodels.api as sm\n",
    "from patsy import dmatrices\n",
    "from statsmodels.stats.outliers_influence import variance_inflation_factor as vif\n",
    "\n",
    "from scipy.stats import boxcox\n",
    "from scipy.special import inv_boxcox\n",
    "from sklearn.preprocessing import FunctionTransformer\n",
    "\n",
    "import inspect\n",
    "from tabnanny import check\n",
    "from unittest import result\n",
    "from pyparsing import col\n",
    "from sklearn import clone\n",
    "from sklearn.metrics import check_scoring\n",
    "from sklearn.model_selection import ParameterSampler\n",
    "from sklearn.utils.validation import check_random_state\n",
    "\n",
    "from scipy.stats.mstats import winsorize\n",
    "\n",
    "\n",
    "rng = np.random.RandomState(42)"
   ]
  },
  {
   "cell_type": "code",
   "execution_count": 2,
   "metadata": {
    "execution": {
     "iopub.execute_input": "2025-04-18T09:39:50.952522Z",
     "iopub.status.busy": "2025-04-18T09:39:50.951015Z",
     "iopub.status.idle": "2025-04-18T09:39:50.962253Z",
     "shell.execute_reply": "2025-04-18T09:39:50.961245Z",
     "shell.execute_reply.started": "2025-04-18T09:39:50.952522Z"
    }
   },
   "outputs": [],
   "source": [
    "# Global variables\n",
    "scoring_dict = {  # evaluation metrics dictionary\n",
    "        'mae': 'neg_mean_absolute_error',\n",
    "        'rmse': 'neg_mean_squared_error',\n",
    "        'r2': 'r2',\n",
    "        'mape': 'neg_mean_absolute_percentage_error',\n",
    "        'medae': 'neg_median_absolute_error'}\n"
   ]
  },
  {
   "cell_type": "markdown",
   "metadata": {},
   "source": [
    "## 2. Data Loading and Understanding Data"
   ]
  },
  {
   "cell_type": "markdown",
   "metadata": {},
   "source": [
    "#### i) Data loading"
   ]
  },
  {
   "cell_type": "code",
   "execution_count": 3,
   "metadata": {
    "execution": {
     "iopub.execute_input": "2025-04-18T09:39:50.964249Z",
     "iopub.status.busy": "2025-04-18T09:39:50.963245Z",
     "iopub.status.idle": "2025-04-18T09:39:51.416821Z",
     "shell.execute_reply": "2025-04-18T09:39:51.415797Z",
     "shell.execute_reply.started": "2025-04-18T09:39:50.964249Z"
    }
   },
   "outputs": [
    {
     "data": {
      "application/vnd.microsoft.datawrangler.viewer.v0+json": {
       "columns": [
        {
         "name": "index",
         "rawType": "int64",
         "type": "integer"
        },
        {
         "name": "cut",
         "rawType": "object",
         "type": "string"
        },
        {
         "name": "color",
         "rawType": "object",
         "type": "string"
        },
        {
         "name": "clarity",
         "rawType": "object",
         "type": "string"
        },
        {
         "name": "carat_weight",
         "rawType": "float64",
         "type": "float"
        },
        {
         "name": "cut_quality",
         "rawType": "object",
         "type": "string"
        },
        {
         "name": "lab",
         "rawType": "object",
         "type": "string"
        },
        {
         "name": "symmetry",
         "rawType": "object",
         "type": "string"
        },
        {
         "name": "polish",
         "rawType": "object",
         "type": "string"
        },
        {
         "name": "eye_clean",
         "rawType": "object",
         "type": "string"
        },
        {
         "name": "culet_size",
         "rawType": "object",
         "type": "string"
        },
        {
         "name": "culet_condition",
         "rawType": "object",
         "type": "string"
        },
        {
         "name": "depth_percent",
         "rawType": "float64",
         "type": "float"
        },
        {
         "name": "table_percent",
         "rawType": "float64",
         "type": "float"
        },
        {
         "name": "meas_length",
         "rawType": "float64",
         "type": "float"
        },
        {
         "name": "meas_width",
         "rawType": "float64",
         "type": "float"
        },
        {
         "name": "meas_depth",
         "rawType": "float64",
         "type": "float"
        },
        {
         "name": "girdle_min",
         "rawType": "object",
         "type": "string"
        },
        {
         "name": "girdle_max",
         "rawType": "object",
         "type": "string"
        },
        {
         "name": "fluor_color",
         "rawType": "object",
         "type": "string"
        },
        {
         "name": "fancy_color_dominant_color",
         "rawType": "object",
         "type": "string"
        },
        {
         "name": "fancy_color_secondary_color",
         "rawType": "object",
         "type": "string"
        },
        {
         "name": "fancy_color_overtone",
         "rawType": "object",
         "type": "string"
        },
        {
         "name": "fancy_color_intensity",
         "rawType": "object",
         "type": "string"
        },
        {
         "name": "total_sales_price",
         "rawType": "int64",
         "type": "integer"
        }
       ],
       "conversionMethod": "pd.DataFrame",
       "ref": "12f4f98d-a023-4263-9627-19a179a399d0",
       "rows": [
        [
         "0",
         "Round",
         "E",
         "VVS2",
         "0.09",
         "Excellent",
         "IGI",
         "Very Good",
         "Very Good",
         "unknown",
         "N",
         "unknown",
         "62.7",
         "59.0",
         "2.85",
         "2.87",
         "1.79",
         "M",
         "M",
         "unknown",
         "unknown",
         "unknown",
         "unknown",
         "unknown",
         "200"
        ],
        [
         "1",
         "Round",
         "E",
         "VVS2",
         "0.09",
         "Very Good",
         "IGI",
         "Very Good",
         "Very Good",
         "unknown",
         "N",
         "unknown",
         "61.9",
         "59.0",
         "2.84",
         "2.89",
         "1.78",
         "STK",
         "STK",
         "unknown",
         "unknown",
         "unknown",
         "unknown",
         "unknown",
         "200"
        ],
        [
         "2",
         "Round",
         "E",
         "VVS2",
         "0.09",
         "Excellent",
         "IGI",
         "Very Good",
         "Very Good",
         "unknown",
         "unknown",
         "unknown",
         "61.1",
         "59.0",
         "2.88",
         "2.9",
         "1.77",
         "TN",
         "M",
         "unknown",
         "unknown",
         "unknown",
         "unknown",
         "unknown",
         "200"
        ],
        [
         "3",
         "Round",
         "E",
         "VVS2",
         "0.09",
         "Excellent",
         "IGI",
         "Very Good",
         "Very Good",
         "unknown",
         "unknown",
         "unknown",
         "62.0",
         "59.0",
         "2.86",
         "2.88",
         "1.78",
         "M",
         "STK",
         "unknown",
         "unknown",
         "unknown",
         "unknown",
         "unknown",
         "200"
        ],
        [
         "4",
         "Round",
         "E",
         "VVS2",
         "0.09",
         "Very Good",
         "IGI",
         "Very Good",
         "Excellent",
         "unknown",
         "N",
         "unknown",
         "64.9",
         "58.5",
         "2.79",
         "2.83",
         "1.82",
         "STK",
         "STK",
         "unknown",
         "unknown",
         "unknown",
         "unknown",
         "unknown",
         "200"
        ]
       ],
       "shape": {
        "columns": 24,
        "rows": 5
       }
      },
      "text/html": [
       "<div>\n",
       "<style scoped>\n",
       "    .dataframe tbody tr th:only-of-type {\n",
       "        vertical-align: middle;\n",
       "    }\n",
       "\n",
       "    .dataframe tbody tr th {\n",
       "        vertical-align: top;\n",
       "    }\n",
       "\n",
       "    .dataframe thead th {\n",
       "        text-align: right;\n",
       "    }\n",
       "</style>\n",
       "<table border=\"1\" class=\"dataframe\">\n",
       "  <thead>\n",
       "    <tr style=\"text-align: right;\">\n",
       "      <th></th>\n",
       "      <th>cut</th>\n",
       "      <th>color</th>\n",
       "      <th>clarity</th>\n",
       "      <th>carat_weight</th>\n",
       "      <th>cut_quality</th>\n",
       "      <th>lab</th>\n",
       "      <th>symmetry</th>\n",
       "      <th>polish</th>\n",
       "      <th>eye_clean</th>\n",
       "      <th>culet_size</th>\n",
       "      <th>...</th>\n",
       "      <th>meas_width</th>\n",
       "      <th>meas_depth</th>\n",
       "      <th>girdle_min</th>\n",
       "      <th>girdle_max</th>\n",
       "      <th>fluor_color</th>\n",
       "      <th>fancy_color_dominant_color</th>\n",
       "      <th>fancy_color_secondary_color</th>\n",
       "      <th>fancy_color_overtone</th>\n",
       "      <th>fancy_color_intensity</th>\n",
       "      <th>total_sales_price</th>\n",
       "    </tr>\n",
       "  </thead>\n",
       "  <tbody>\n",
       "    <tr>\n",
       "      <th>0</th>\n",
       "      <td>Round</td>\n",
       "      <td>E</td>\n",
       "      <td>VVS2</td>\n",
       "      <td>0.09</td>\n",
       "      <td>Excellent</td>\n",
       "      <td>IGI</td>\n",
       "      <td>Very Good</td>\n",
       "      <td>Very Good</td>\n",
       "      <td>unknown</td>\n",
       "      <td>N</td>\n",
       "      <td>...</td>\n",
       "      <td>2.87</td>\n",
       "      <td>1.79</td>\n",
       "      <td>M</td>\n",
       "      <td>M</td>\n",
       "      <td>unknown</td>\n",
       "      <td>unknown</td>\n",
       "      <td>unknown</td>\n",
       "      <td>unknown</td>\n",
       "      <td>unknown</td>\n",
       "      <td>200</td>\n",
       "    </tr>\n",
       "    <tr>\n",
       "      <th>1</th>\n",
       "      <td>Round</td>\n",
       "      <td>E</td>\n",
       "      <td>VVS2</td>\n",
       "      <td>0.09</td>\n",
       "      <td>Very Good</td>\n",
       "      <td>IGI</td>\n",
       "      <td>Very Good</td>\n",
       "      <td>Very Good</td>\n",
       "      <td>unknown</td>\n",
       "      <td>N</td>\n",
       "      <td>...</td>\n",
       "      <td>2.89</td>\n",
       "      <td>1.78</td>\n",
       "      <td>STK</td>\n",
       "      <td>STK</td>\n",
       "      <td>unknown</td>\n",
       "      <td>unknown</td>\n",
       "      <td>unknown</td>\n",
       "      <td>unknown</td>\n",
       "      <td>unknown</td>\n",
       "      <td>200</td>\n",
       "    </tr>\n",
       "    <tr>\n",
       "      <th>2</th>\n",
       "      <td>Round</td>\n",
       "      <td>E</td>\n",
       "      <td>VVS2</td>\n",
       "      <td>0.09</td>\n",
       "      <td>Excellent</td>\n",
       "      <td>IGI</td>\n",
       "      <td>Very Good</td>\n",
       "      <td>Very Good</td>\n",
       "      <td>unknown</td>\n",
       "      <td>unknown</td>\n",
       "      <td>...</td>\n",
       "      <td>2.90</td>\n",
       "      <td>1.77</td>\n",
       "      <td>TN</td>\n",
       "      <td>M</td>\n",
       "      <td>unknown</td>\n",
       "      <td>unknown</td>\n",
       "      <td>unknown</td>\n",
       "      <td>unknown</td>\n",
       "      <td>unknown</td>\n",
       "      <td>200</td>\n",
       "    </tr>\n",
       "    <tr>\n",
       "      <th>3</th>\n",
       "      <td>Round</td>\n",
       "      <td>E</td>\n",
       "      <td>VVS2</td>\n",
       "      <td>0.09</td>\n",
       "      <td>Excellent</td>\n",
       "      <td>IGI</td>\n",
       "      <td>Very Good</td>\n",
       "      <td>Very Good</td>\n",
       "      <td>unknown</td>\n",
       "      <td>unknown</td>\n",
       "      <td>...</td>\n",
       "      <td>2.88</td>\n",
       "      <td>1.78</td>\n",
       "      <td>M</td>\n",
       "      <td>STK</td>\n",
       "      <td>unknown</td>\n",
       "      <td>unknown</td>\n",
       "      <td>unknown</td>\n",
       "      <td>unknown</td>\n",
       "      <td>unknown</td>\n",
       "      <td>200</td>\n",
       "    </tr>\n",
       "    <tr>\n",
       "      <th>4</th>\n",
       "      <td>Round</td>\n",
       "      <td>E</td>\n",
       "      <td>VVS2</td>\n",
       "      <td>0.09</td>\n",
       "      <td>Very Good</td>\n",
       "      <td>IGI</td>\n",
       "      <td>Very Good</td>\n",
       "      <td>Excellent</td>\n",
       "      <td>unknown</td>\n",
       "      <td>N</td>\n",
       "      <td>...</td>\n",
       "      <td>2.83</td>\n",
       "      <td>1.82</td>\n",
       "      <td>STK</td>\n",
       "      <td>STK</td>\n",
       "      <td>unknown</td>\n",
       "      <td>unknown</td>\n",
       "      <td>unknown</td>\n",
       "      <td>unknown</td>\n",
       "      <td>unknown</td>\n",
       "      <td>200</td>\n",
       "    </tr>\n",
       "  </tbody>\n",
       "</table>\n",
       "<p>5 rows × 24 columns</p>\n",
       "</div>"
      ],
      "text/plain": [
       "     cut color clarity  carat_weight cut_quality  lab   symmetry     polish  \\\n",
       "0  Round     E    VVS2          0.09   Excellent  IGI  Very Good  Very Good   \n",
       "1  Round     E    VVS2          0.09   Very Good  IGI  Very Good  Very Good   \n",
       "2  Round     E    VVS2          0.09   Excellent  IGI  Very Good  Very Good   \n",
       "3  Round     E    VVS2          0.09   Excellent  IGI  Very Good  Very Good   \n",
       "4  Round     E    VVS2          0.09   Very Good  IGI  Very Good  Excellent   \n",
       "\n",
       "  eye_clean culet_size  ... meas_width  meas_depth  girdle_min  girdle_max  \\\n",
       "0   unknown          N  ...       2.87        1.79           M           M   \n",
       "1   unknown          N  ...       2.89        1.78         STK         STK   \n",
       "2   unknown    unknown  ...       2.90        1.77          TN           M   \n",
       "3   unknown    unknown  ...       2.88        1.78           M         STK   \n",
       "4   unknown          N  ...       2.83        1.82         STK         STK   \n",
       "\n",
       "   fluor_color  fancy_color_dominant_color fancy_color_secondary_color  \\\n",
       "0      unknown                     unknown                     unknown   \n",
       "1      unknown                     unknown                     unknown   \n",
       "2      unknown                     unknown                     unknown   \n",
       "3      unknown                     unknown                     unknown   \n",
       "4      unknown                     unknown                     unknown   \n",
       "\n",
       "  fancy_color_overtone fancy_color_intensity total_sales_price  \n",
       "0              unknown               unknown               200  \n",
       "1              unknown               unknown               200  \n",
       "2              unknown               unknown               200  \n",
       "3              unknown               unknown               200  \n",
       "4              unknown               unknown               200  \n",
       "\n",
       "[5 rows x 24 columns]"
      ]
     },
     "execution_count": 3,
     "metadata": {},
     "output_type": "execute_result"
    }
   ],
   "source": [
    "df = pd.read_pickle('../data/raw/diamonds_cleaned.pkl')\n",
    "df.head()"
   ]
  },
  {
   "cell_type": "markdown",
   "metadata": {},
   "source": [
    "#### ii) Understanding data"
   ]
  },
  {
   "cell_type": "code",
   "execution_count": 4,
   "metadata": {
    "execution": {
     "iopub.execute_input": "2025-04-18T09:39:51.422501Z",
     "iopub.status.busy": "2025-04-18T09:39:51.421494Z",
     "iopub.status.idle": "2025-04-18T09:39:52.644298Z",
     "shell.execute_reply": "2025-04-18T09:39:52.643301Z",
     "shell.execute_reply.started": "2025-04-18T09:39:51.422501Z"
    }
   },
   "outputs": [
    {
     "data": {
      "application/vnd.microsoft.datawrangler.viewer.v0+json": {
       "columns": [
        {
         "name": "index",
         "rawType": "int64",
         "type": "integer"
        },
        {
         "name": "cut",
         "rawType": "object",
         "type": "string"
        },
        {
         "name": "color",
         "rawType": "object",
         "type": "string"
        },
        {
         "name": "clarity",
         "rawType": "object",
         "type": "string"
        },
        {
         "name": "carat_weight",
         "rawType": "float64",
         "type": "float"
        },
        {
         "name": "cut_quality",
         "rawType": "object",
         "type": "string"
        },
        {
         "name": "lab",
         "rawType": "object",
         "type": "string"
        },
        {
         "name": "symmetry",
         "rawType": "object",
         "type": "string"
        },
        {
         "name": "polish",
         "rawType": "object",
         "type": "string"
        },
        {
         "name": "eye_clean",
         "rawType": "object",
         "type": "string"
        },
        {
         "name": "culet_size",
         "rawType": "object",
         "type": "string"
        },
        {
         "name": "culet_condition",
         "rawType": "object",
         "type": "string"
        },
        {
         "name": "depth_percent",
         "rawType": "float64",
         "type": "float"
        },
        {
         "name": "table_percent",
         "rawType": "float64",
         "type": "float"
        },
        {
         "name": "meas_length",
         "rawType": "float64",
         "type": "float"
        },
        {
         "name": "meas_width",
         "rawType": "float64",
         "type": "float"
        },
        {
         "name": "meas_depth",
         "rawType": "float64",
         "type": "float"
        },
        {
         "name": "girdle_min",
         "rawType": "object",
         "type": "string"
        },
        {
         "name": "girdle_max",
         "rawType": "object",
         "type": "string"
        },
        {
         "name": "fluor_color",
         "rawType": "object",
         "type": "string"
        },
        {
         "name": "fancy_color_dominant_color",
         "rawType": "object",
         "type": "string"
        },
        {
         "name": "fancy_color_secondary_color",
         "rawType": "object",
         "type": "string"
        },
        {
         "name": "fancy_color_overtone",
         "rawType": "object",
         "type": "string"
        },
        {
         "name": "fancy_color_intensity",
         "rawType": "object",
         "type": "string"
        },
        {
         "name": "total_sales_price",
         "rawType": "int64",
         "type": "integer"
        }
       ],
       "conversionMethod": "pd.DataFrame",
       "ref": "2a33ec74-73f7-4211-8df7-f5880bcfa464",
       "rows": [
        [
         "0",
         "Round",
         "E",
         "VVS2",
         "0.09",
         "Excellent",
         "IGI",
         "Very Good",
         "Very Good",
         "unknown",
         "N",
         "unknown",
         "62.7",
         "59.0",
         "2.85",
         "2.87",
         "1.79",
         "M",
         "M",
         "unknown",
         "unknown",
         "unknown",
         "unknown",
         "unknown",
         "200"
        ],
        [
         "1",
         "Round",
         "E",
         "VVS2",
         "0.09",
         "Very Good",
         "IGI",
         "Very Good",
         "Very Good",
         "unknown",
         "N",
         "unknown",
         "61.9",
         "59.0",
         "2.84",
         "2.89",
         "1.78",
         "STK",
         "STK",
         "unknown",
         "unknown",
         "unknown",
         "unknown",
         "unknown",
         "200"
        ],
        [
         "2",
         "Round",
         "E",
         "VVS2",
         "0.09",
         "Excellent",
         "IGI",
         "Very Good",
         "Very Good",
         "unknown",
         "unknown",
         "unknown",
         "61.1",
         "59.0",
         "2.88",
         "2.9",
         "1.77",
         "TN",
         "M",
         "unknown",
         "unknown",
         "unknown",
         "unknown",
         "unknown",
         "200"
        ],
        [
         "3",
         "Round",
         "E",
         "VVS2",
         "0.09",
         "Excellent",
         "IGI",
         "Very Good",
         "Very Good",
         "unknown",
         "unknown",
         "unknown",
         "62.0",
         "59.0",
         "2.86",
         "2.88",
         "1.78",
         "M",
         "STK",
         "unknown",
         "unknown",
         "unknown",
         "unknown",
         "unknown",
         "200"
        ],
        [
         "4",
         "Round",
         "E",
         "VVS2",
         "0.09",
         "Very Good",
         "IGI",
         "Very Good",
         "Excellent",
         "unknown",
         "N",
         "unknown",
         "64.9",
         "58.5",
         "2.79",
         "2.83",
         "1.82",
         "STK",
         "STK",
         "unknown",
         "unknown",
         "unknown",
         "unknown",
         "unknown",
         "200"
        ]
       ],
       "shape": {
        "columns": 24,
        "rows": 5
       }
      },
      "text/html": [
       "<div>\n",
       "<style scoped>\n",
       "    .dataframe tbody tr th:only-of-type {\n",
       "        vertical-align: middle;\n",
       "    }\n",
       "\n",
       "    .dataframe tbody tr th {\n",
       "        vertical-align: top;\n",
       "    }\n",
       "\n",
       "    .dataframe thead th {\n",
       "        text-align: right;\n",
       "    }\n",
       "</style>\n",
       "<table border=\"1\" class=\"dataframe\">\n",
       "  <thead>\n",
       "    <tr style=\"text-align: right;\">\n",
       "      <th></th>\n",
       "      <th>cut</th>\n",
       "      <th>color</th>\n",
       "      <th>clarity</th>\n",
       "      <th>carat_weight</th>\n",
       "      <th>cut_quality</th>\n",
       "      <th>lab</th>\n",
       "      <th>symmetry</th>\n",
       "      <th>polish</th>\n",
       "      <th>eye_clean</th>\n",
       "      <th>culet_size</th>\n",
       "      <th>...</th>\n",
       "      <th>meas_width</th>\n",
       "      <th>meas_depth</th>\n",
       "      <th>girdle_min</th>\n",
       "      <th>girdle_max</th>\n",
       "      <th>fluor_color</th>\n",
       "      <th>fancy_color_dominant_color</th>\n",
       "      <th>fancy_color_secondary_color</th>\n",
       "      <th>fancy_color_overtone</th>\n",
       "      <th>fancy_color_intensity</th>\n",
       "      <th>total_sales_price</th>\n",
       "    </tr>\n",
       "  </thead>\n",
       "  <tbody>\n",
       "    <tr>\n",
       "      <th>0</th>\n",
       "      <td>Round</td>\n",
       "      <td>E</td>\n",
       "      <td>VVS2</td>\n",
       "      <td>0.09</td>\n",
       "      <td>Excellent</td>\n",
       "      <td>IGI</td>\n",
       "      <td>Very Good</td>\n",
       "      <td>Very Good</td>\n",
       "      <td>unknown</td>\n",
       "      <td>N</td>\n",
       "      <td>...</td>\n",
       "      <td>2.87</td>\n",
       "      <td>1.79</td>\n",
       "      <td>M</td>\n",
       "      <td>M</td>\n",
       "      <td>unknown</td>\n",
       "      <td>unknown</td>\n",
       "      <td>unknown</td>\n",
       "      <td>unknown</td>\n",
       "      <td>unknown</td>\n",
       "      <td>200</td>\n",
       "    </tr>\n",
       "    <tr>\n",
       "      <th>1</th>\n",
       "      <td>Round</td>\n",
       "      <td>E</td>\n",
       "      <td>VVS2</td>\n",
       "      <td>0.09</td>\n",
       "      <td>Very Good</td>\n",
       "      <td>IGI</td>\n",
       "      <td>Very Good</td>\n",
       "      <td>Very Good</td>\n",
       "      <td>unknown</td>\n",
       "      <td>N</td>\n",
       "      <td>...</td>\n",
       "      <td>2.89</td>\n",
       "      <td>1.78</td>\n",
       "      <td>STK</td>\n",
       "      <td>STK</td>\n",
       "      <td>unknown</td>\n",
       "      <td>unknown</td>\n",
       "      <td>unknown</td>\n",
       "      <td>unknown</td>\n",
       "      <td>unknown</td>\n",
       "      <td>200</td>\n",
       "    </tr>\n",
       "    <tr>\n",
       "      <th>2</th>\n",
       "      <td>Round</td>\n",
       "      <td>E</td>\n",
       "      <td>VVS2</td>\n",
       "      <td>0.09</td>\n",
       "      <td>Excellent</td>\n",
       "      <td>IGI</td>\n",
       "      <td>Very Good</td>\n",
       "      <td>Very Good</td>\n",
       "      <td>unknown</td>\n",
       "      <td>unknown</td>\n",
       "      <td>...</td>\n",
       "      <td>2.90</td>\n",
       "      <td>1.77</td>\n",
       "      <td>TN</td>\n",
       "      <td>M</td>\n",
       "      <td>unknown</td>\n",
       "      <td>unknown</td>\n",
       "      <td>unknown</td>\n",
       "      <td>unknown</td>\n",
       "      <td>unknown</td>\n",
       "      <td>200</td>\n",
       "    </tr>\n",
       "    <tr>\n",
       "      <th>3</th>\n",
       "      <td>Round</td>\n",
       "      <td>E</td>\n",
       "      <td>VVS2</td>\n",
       "      <td>0.09</td>\n",
       "      <td>Excellent</td>\n",
       "      <td>IGI</td>\n",
       "      <td>Very Good</td>\n",
       "      <td>Very Good</td>\n",
       "      <td>unknown</td>\n",
       "      <td>unknown</td>\n",
       "      <td>...</td>\n",
       "      <td>2.88</td>\n",
       "      <td>1.78</td>\n",
       "      <td>M</td>\n",
       "      <td>STK</td>\n",
       "      <td>unknown</td>\n",
       "      <td>unknown</td>\n",
       "      <td>unknown</td>\n",
       "      <td>unknown</td>\n",
       "      <td>unknown</td>\n",
       "      <td>200</td>\n",
       "    </tr>\n",
       "    <tr>\n",
       "      <th>4</th>\n",
       "      <td>Round</td>\n",
       "      <td>E</td>\n",
       "      <td>VVS2</td>\n",
       "      <td>0.09</td>\n",
       "      <td>Very Good</td>\n",
       "      <td>IGI</td>\n",
       "      <td>Very Good</td>\n",
       "      <td>Excellent</td>\n",
       "      <td>unknown</td>\n",
       "      <td>N</td>\n",
       "      <td>...</td>\n",
       "      <td>2.83</td>\n",
       "      <td>1.82</td>\n",
       "      <td>STK</td>\n",
       "      <td>STK</td>\n",
       "      <td>unknown</td>\n",
       "      <td>unknown</td>\n",
       "      <td>unknown</td>\n",
       "      <td>unknown</td>\n",
       "      <td>unknown</td>\n",
       "      <td>200</td>\n",
       "    </tr>\n",
       "  </tbody>\n",
       "</table>\n",
       "<p>5 rows × 24 columns</p>\n",
       "</div>"
      ],
      "text/plain": [
       "     cut color clarity  carat_weight cut_quality  lab   symmetry     polish  \\\n",
       "0  Round     E    VVS2          0.09   Excellent  IGI  Very Good  Very Good   \n",
       "1  Round     E    VVS2          0.09   Very Good  IGI  Very Good  Very Good   \n",
       "2  Round     E    VVS2          0.09   Excellent  IGI  Very Good  Very Good   \n",
       "3  Round     E    VVS2          0.09   Excellent  IGI  Very Good  Very Good   \n",
       "4  Round     E    VVS2          0.09   Very Good  IGI  Very Good  Excellent   \n",
       "\n",
       "  eye_clean culet_size  ... meas_width  meas_depth  girdle_min  girdle_max  \\\n",
       "0   unknown          N  ...       2.87        1.79           M           M   \n",
       "1   unknown          N  ...       2.89        1.78         STK         STK   \n",
       "2   unknown    unknown  ...       2.90        1.77          TN           M   \n",
       "3   unknown    unknown  ...       2.88        1.78           M         STK   \n",
       "4   unknown          N  ...       2.83        1.82         STK         STK   \n",
       "\n",
       "   fluor_color  fancy_color_dominant_color fancy_color_secondary_color  \\\n",
       "0      unknown                     unknown                     unknown   \n",
       "1      unknown                     unknown                     unknown   \n",
       "2      unknown                     unknown                     unknown   \n",
       "3      unknown                     unknown                     unknown   \n",
       "4      unknown                     unknown                     unknown   \n",
       "\n",
       "  fancy_color_overtone fancy_color_intensity total_sales_price  \n",
       "0              unknown               unknown               200  \n",
       "1              unknown               unknown               200  \n",
       "2              unknown               unknown               200  \n",
       "3              unknown               unknown               200  \n",
       "4              unknown               unknown               200  \n",
       "\n",
       "[5 rows x 24 columns]"
      ]
     },
     "metadata": {},
     "output_type": "display_data"
    },
    {
     "name": "stdout",
     "output_type": "stream",
     "text": [
      "df shape: (209496, 24)\n",
      "\n",
      "<class 'pandas.core.frame.DataFrame'>\n",
      "RangeIndex: 209496 entries, 0 to 209495\n",
      "Data columns (total 24 columns):\n",
      " #   Column                       Non-Null Count   Dtype  \n",
      "---  ------                       --------------   -----  \n",
      " 0   cut                          209496 non-null  object \n",
      " 1   color                        209496 non-null  object \n",
      " 2   clarity                      209496 non-null  object \n",
      " 3   carat_weight                 209496 non-null  float64\n",
      " 4   cut_quality                  209496 non-null  object \n",
      " 5   lab                          209496 non-null  object \n",
      " 6   symmetry                     209496 non-null  object \n",
      " 7   polish                       209496 non-null  object \n",
      " 8   eye_clean                    209496 non-null  object \n",
      " 9   culet_size                   209496 non-null  object \n",
      " 10  culet_condition              209496 non-null  object \n",
      " 11  depth_percent                209496 non-null  float64\n",
      " 12  table_percent                209496 non-null  float64\n",
      " 13  meas_length                  209496 non-null  float64\n",
      " 14  meas_width                   209496 non-null  float64\n",
      " 15  meas_depth                   209496 non-null  float64\n",
      " 16  girdle_min                   209496 non-null  object \n",
      " 17  girdle_max                   209496 non-null  object \n",
      " 18  fluor_color                  209496 non-null  object \n",
      " 19  fancy_color_dominant_color   209496 non-null  object \n",
      " 20  fancy_color_secondary_color  209496 non-null  object \n",
      " 21  fancy_color_overtone         209496 non-null  object \n",
      " 22  fancy_color_intensity        209496 non-null  object \n",
      " 23  total_sales_price            209496 non-null  int64  \n",
      "dtypes: float64(6), int64(1), object(17)\n",
      "memory usage: 38.4+ MB\n"
     ]
    },
    {
     "data": {
      "text/plain": [
       "None"
      ]
     },
     "metadata": {},
     "output_type": "display_data"
    },
    {
     "data": {
      "application/vnd.microsoft.datawrangler.viewer.v0+json": {
       "columns": [
        {
         "name": "index",
         "rawType": "object",
         "type": "string"
        },
        {
         "name": "carat_weight",
         "rawType": "float64",
         "type": "float"
        },
        {
         "name": "depth_percent",
         "rawType": "float64",
         "type": "float"
        },
        {
         "name": "table_percent",
         "rawType": "float64",
         "type": "float"
        },
        {
         "name": "meas_length",
         "rawType": "float64",
         "type": "float"
        },
        {
         "name": "meas_width",
         "rawType": "float64",
         "type": "float"
        },
        {
         "name": "meas_depth",
         "rawType": "float64",
         "type": "float"
        },
        {
         "name": "total_sales_price",
         "rawType": "float64",
         "type": "float"
        }
       ],
       "conversionMethod": "pd.DataFrame",
       "ref": "a459eedc-a2f5-4822-9c6b-d5c5bf20536a",
       "rows": [
        [
         "count",
         "209496.0",
         "209496.0",
         "209496.0",
         "209496.0",
         "209496.0",
         "209496.0",
         "209496.0"
        ],
        [
         "mean",
         "0.7605470748844847",
         "63.08051657310879",
         "59.204791260930996",
         "5.603246028563791",
         "5.179019503952343",
         "3.257328159010196",
         "7009.379043036622"
        ],
        [
         "std",
         "0.8488527502866018",
         "3.675149001313019",
         "4.060870714812072",
         "1.689823293380001",
         "1.2843697586628116",
         "0.8160979454267501",
         "26318.157635137024"
        ],
        [
         "min",
         "0.08",
         "25.9",
         "34.5",
         "0.05",
         "0.21",
         "0.52",
         "200.0"
        ],
        [
         "25%",
         "0.31",
         "61.4",
         "57.0",
         "4.35",
         "4.31",
         "2.68",
         "956.0"
        ],
        [
         "50%",
         "0.5",
         "62.5",
         "58.0",
         "5.07",
         "4.81",
         "3.04",
         "1960.0"
        ],
        [
         "75%",
         "1.0",
         "63.6",
         "60.0",
         "6.37",
         "5.72",
         "3.67",
         "5367.0"
        ],
        [
         "max",
         "19.35",
         "98.7",
         "94.0",
         "23.83",
         "17.25",
         "10.47",
         "1449881.0"
        ]
       ],
       "shape": {
        "columns": 7,
        "rows": 8
       }
      },
      "text/html": [
       "<div>\n",
       "<style scoped>\n",
       "    .dataframe tbody tr th:only-of-type {\n",
       "        vertical-align: middle;\n",
       "    }\n",
       "\n",
       "    .dataframe tbody tr th {\n",
       "        vertical-align: top;\n",
       "    }\n",
       "\n",
       "    .dataframe thead th {\n",
       "        text-align: right;\n",
       "    }\n",
       "</style>\n",
       "<table border=\"1\" class=\"dataframe\">\n",
       "  <thead>\n",
       "    <tr style=\"text-align: right;\">\n",
       "      <th></th>\n",
       "      <th>carat_weight</th>\n",
       "      <th>depth_percent</th>\n",
       "      <th>table_percent</th>\n",
       "      <th>meas_length</th>\n",
       "      <th>meas_width</th>\n",
       "      <th>meas_depth</th>\n",
       "      <th>total_sales_price</th>\n",
       "    </tr>\n",
       "  </thead>\n",
       "  <tbody>\n",
       "    <tr>\n",
       "      <th>count</th>\n",
       "      <td>209496.000000</td>\n",
       "      <td>209496.000000</td>\n",
       "      <td>209496.000000</td>\n",
       "      <td>209496.000000</td>\n",
       "      <td>209496.00000</td>\n",
       "      <td>209496.000000</td>\n",
       "      <td>2.094960e+05</td>\n",
       "    </tr>\n",
       "    <tr>\n",
       "      <th>mean</th>\n",
       "      <td>0.760547</td>\n",
       "      <td>63.080517</td>\n",
       "      <td>59.204791</td>\n",
       "      <td>5.603246</td>\n",
       "      <td>5.17902</td>\n",
       "      <td>3.257328</td>\n",
       "      <td>7.009379e+03</td>\n",
       "    </tr>\n",
       "    <tr>\n",
       "      <th>std</th>\n",
       "      <td>0.848853</td>\n",
       "      <td>3.675149</td>\n",
       "      <td>4.060871</td>\n",
       "      <td>1.689823</td>\n",
       "      <td>1.28437</td>\n",
       "      <td>0.816098</td>\n",
       "      <td>2.631816e+04</td>\n",
       "    </tr>\n",
       "    <tr>\n",
       "      <th>min</th>\n",
       "      <td>0.080000</td>\n",
       "      <td>25.900000</td>\n",
       "      <td>34.500000</td>\n",
       "      <td>0.050000</td>\n",
       "      <td>0.21000</td>\n",
       "      <td>0.520000</td>\n",
       "      <td>2.000000e+02</td>\n",
       "    </tr>\n",
       "    <tr>\n",
       "      <th>25%</th>\n",
       "      <td>0.310000</td>\n",
       "      <td>61.400000</td>\n",
       "      <td>57.000000</td>\n",
       "      <td>4.350000</td>\n",
       "      <td>4.31000</td>\n",
       "      <td>2.680000</td>\n",
       "      <td>9.560000e+02</td>\n",
       "    </tr>\n",
       "    <tr>\n",
       "      <th>50%</th>\n",
       "      <td>0.500000</td>\n",
       "      <td>62.500000</td>\n",
       "      <td>58.000000</td>\n",
       "      <td>5.070000</td>\n",
       "      <td>4.81000</td>\n",
       "      <td>3.040000</td>\n",
       "      <td>1.960000e+03</td>\n",
       "    </tr>\n",
       "    <tr>\n",
       "      <th>75%</th>\n",
       "      <td>1.000000</td>\n",
       "      <td>63.600000</td>\n",
       "      <td>60.000000</td>\n",
       "      <td>6.370000</td>\n",
       "      <td>5.72000</td>\n",
       "      <td>3.670000</td>\n",
       "      <td>5.367000e+03</td>\n",
       "    </tr>\n",
       "    <tr>\n",
       "      <th>max</th>\n",
       "      <td>19.350000</td>\n",
       "      <td>98.700000</td>\n",
       "      <td>94.000000</td>\n",
       "      <td>23.830000</td>\n",
       "      <td>17.25000</td>\n",
       "      <td>10.470000</td>\n",
       "      <td>1.449881e+06</td>\n",
       "    </tr>\n",
       "  </tbody>\n",
       "</table>\n",
       "</div>"
      ],
      "text/plain": [
       "        carat_weight  depth_percent  table_percent    meas_length  \\\n",
       "count  209496.000000  209496.000000  209496.000000  209496.000000   \n",
       "mean        0.760547      63.080517      59.204791       5.603246   \n",
       "std         0.848853       3.675149       4.060871       1.689823   \n",
       "min         0.080000      25.900000      34.500000       0.050000   \n",
       "25%         0.310000      61.400000      57.000000       4.350000   \n",
       "50%         0.500000      62.500000      58.000000       5.070000   \n",
       "75%         1.000000      63.600000      60.000000       6.370000   \n",
       "max        19.350000      98.700000      94.000000      23.830000   \n",
       "\n",
       "         meas_width     meas_depth  total_sales_price  \n",
       "count  209496.00000  209496.000000       2.094960e+05  \n",
       "mean        5.17902       3.257328       7.009379e+03  \n",
       "std         1.28437       0.816098       2.631816e+04  \n",
       "min         0.21000       0.520000       2.000000e+02  \n",
       "25%         4.31000       2.680000       9.560000e+02  \n",
       "50%         4.81000       3.040000       1.960000e+03  \n",
       "75%         5.72000       3.670000       5.367000e+03  \n",
       "max        17.25000      10.470000       1.449881e+06  "
      ]
     },
     "metadata": {},
     "output_type": "display_data"
    },
    {
     "name": "stdout",
     "output_type": "stream",
     "text": [
      "sum of missing values: 0\n",
      "\n",
      "sum of duplicated rows: 7\n",
      "\n"
     ]
    }
   ],
   "source": [
    "# Check the data\n",
    "display(df.head(5))\n",
    "\n",
    "# Shape\n",
    "print(f\"df shape: {df.shape}\\n\")\n",
    "# Data types (df.dtypes)\n",
    "# print(df.dtypes)\n",
    "\n",
    "# Column types\n",
    "display(df.info())\n",
    "\n",
    "# Basic stats\n",
    "display(df.describe())\n",
    "\n",
    "# Missing values\n",
    "print(f\"sum of missing values: {df.isnull().sum().sum()}\\n\")\n",
    "\n",
    "# Duplicates\n",
    "print(f\"sum of duplicated rows: {df.duplicated().sum()}\\n\")\n"
   ]
  },
  {
   "cell_type": "code",
   "execution_count": 5,
   "metadata": {
    "execution": {
     "iopub.execute_input": "2025-04-18T09:39:52.647315Z",
     "iopub.status.busy": "2025-04-18T09:39:52.646297Z",
     "iopub.status.idle": "2025-04-18T09:39:53.672808Z",
     "shell.execute_reply": "2025-04-18T09:39:53.672221Z",
     "shell.execute_reply.started": "2025-04-18T09:39:52.647315Z"
    }
   },
   "outputs": [
    {
     "data": {
      "image/png": "[encoded data removed]",
      "text/plain": [
       "<Figure size 1200x800 with 2 Axes>"
      ]
     },
     "metadata": {},
     "output_type": "display_data"
    }
   ],
   "source": [
    "# Correlation matrix\n",
    "numeric_df = df.select_dtypes(include=[np.number])\n",
    "corr = numeric_df.corr()\n",
    "plt.figure(figsize=(12, 8))\n",
    "sns.heatmap(corr, annot=True, cmap='coolwarm', fmt='.2f')\n",
    "plt.title('Correlation Matrix')\n",
    "plt.show()"
   ]
  },
  {
   "cell_type": "code",
   "execution_count": 6,
   "metadata": {
    "execution": {
     "iopub.execute_input": "2025-04-18T09:39:53.677285Z",
     "iopub.status.busy": "2025-04-18T09:39:53.675826Z",
     "iopub.status.idle": "2025-04-18T09:39:54.202181Z",
     "shell.execute_reply": "2025-04-18T09:39:54.200089Z",
     "shell.execute_reply.started": "2025-04-18T09:39:53.677285Z"
    }
   },
   "outputs": [
    {
     "name": "stdout",
     "output_type": "stream",
     "text": [
      "         feature         VIF\n",
      "5     meas_depth  491.503780\n",
      "4     meas_width  363.206799\n",
      "1  depth_percent  331.770172\n",
      "2  table_percent  269.031393\n",
      "3    meas_length   40.170754\n",
      "0   carat_weight    9.228633\n"
     ]
    }
   ],
   "source": [
    "# Check for multicollinearity\n",
    "def calculate_vif(X):\n",
    "    \"\"\"\n",
    "    Calculate Variance Inflation Factor (VIF) for each feature in the dataset.\n",
    "    \"\"\"\n",
    "    vif_data = pd.DataFrame()\n",
    "    vif_data[\"feature\"] = X.columns\n",
    "    vif_data[\"VIF\"] = [vif(X.values, i) for i in range(X.shape[1])]\n",
    "    return vif_data\n",
    "\n",
    "# Calculate VIF for the features\n",
    "X = numeric_df.drop(columns=['total_sales_price'])\n",
    "vif_data = calculate_vif(X)\n",
    "print(vif_data.sort_values(\"VIF\", ascending=False))"
   ]
  },
  {
   "cell_type": "markdown",
   "metadata": {},
   "source": [
    "There is high multicollinearity between some features, particularly:\n",
    "- meas_width and meas_depth (correlation of 0.97)\n",
    "- meas_length and carat_weight (correlation of 0.82)\n",
    "- depth_percent and table_percent (VIF of 352.19 and 270.96 respectively)\n",
    "\n",
    "To address this problem:\n",
    "\n",
    "- we will drop meas_width and meas_depth due to their extrememly correlation with the other features\n",
    "- create new feature which is a ratio of table and depth percent \n",
    "- drop depth_percent, table_percent and meas_length as a result of the new feature 'depth_to_table_ratio'\n"
   ]
  },
  {
   "cell_type": "code",
   "execution_count": 7,
   "metadata": {
    "execution": {
     "iopub.execute_input": "2025-04-18T09:39:54.203257Z",
     "iopub.status.busy": "2025-04-18T09:39:54.203257Z",
     "iopub.status.idle": "2025-04-18T09:39:57.438883Z",
     "shell.execute_reply": "2025-04-18T09:39:57.436809Z",
     "shell.execute_reply.started": "2025-04-18T09:39:54.203257Z"
    }
   },
   "outputs": [
    {
     "name": "stdout",
     "output_type": "stream",
     "text": [
      "count    2.094960e+05\n",
      "mean     7.009379e+03\n",
      "std      2.631816e+04\n",
      "min      2.000000e+02\n",
      "25%      9.560000e+02\n",
      "50%      1.960000e+03\n",
      "75%      5.367000e+03\n",
      "max      1.449881e+06\n",
      "Name: total_sales_price, dtype: float64\n"
     ]
    },
    {
     "data": {
      "image/png": "[encoded data removed]",
      "text/plain": [
       "<Figure size 1000x600 with 1 Axes>"
      ]
     },
     "metadata": {},
     "output_type": "display_data"
    }
   ],
   "source": [
    "# Check the target variable distribution\n",
    "print(df['total_sales_price'].describe())\n",
    "\n",
    "# Plot the target variable distribution\n",
    "plt.figure(figsize=(10, 6))\n",
    "sns.histplot(df['total_sales_price'], bins=50, kde=True)\n",
    "plt.title('Price Distribution')\n",
    "plt.xlabel('Price')\n",
    "plt.ylabel('Frequency')\n",
    "plt.show()"
   ]
  },
  {
   "cell_type": "markdown",
   "metadata": {},
   "source": [
    "We can see that the target variable is extremely right-skewed. \n",
    "\n",
    "To address this, we can apply a log transformation to the target variable."
   ]
  },
  {
   "cell_type": "markdown",
   "metadata": {},
   "source": [
    "#### iii) Defining preprocessing functions "
   ]
  },
  {
   "cell_type": "code",
   "execution_count": null,
   "metadata": {
    "execution": {
     "iopub.execute_input": "2025-04-18T09:39:57.441816Z",
     "iopub.status.busy": "2025-04-18T09:39:57.440816Z",
     "iopub.status.idle": "2025-04-18T09:39:57.580299Z",
     "shell.execute_reply": "2025-04-18T09:39:57.578268Z",
     "shell.execute_reply.started": "2025-04-18T09:39:57.441816Z"
    }
   },
   "outputs": [],
   "source": [
    "# Define a function to split the data into train and test sets\n",
    "def split_data(given_df=None, train_test=None, X_y=None, shuffle=True):\n",
    "    inputs = [given_df, train_test, X_y]\n",
    "    # Check if the inputs are valid\n",
    "    try:\n",
    "        if given_df is not None and not isinstance(given_df, pd.DataFrame):\n",
    "            raise ValueError('given_df must be a pandas dataframe.')\n",
    "        if train_test is not None and not isinstance(train_test, tuple) and len(train_test) != 2:\n",
    "            raise ValueError('train_test must be a tuple of (train, test).')\n",
    "        if X_y is not None and not isinstance(X_y, tuple) and len(X_y) != 2:\n",
    "            raise ValueError('X_y must be a tuple of (X, y).')\n",
    "        # Check if at least one of the inputs is provided\n",
    "        if all(x is None for x in inputs):\n",
    "            raise ValueError('Please provide either a dataframe, train_test tuple or X_y tuple.')\n",
    "        # Check if more than one input is provided\n",
    "        if sum(x is not None for x in inputs) > 1:\n",
    "            raise ValueError('Please provide only one of the following: dataframe, train_test tuple or X_y tuple.')\n",
    "    except ValueError as e:\n",
    "        print(\"Caught an error: \", e)\n",
    "        raise\n",
    "    \n",
    "    try:\n",
    "        if given_df is not None:\n",
    "            # Split the data into train and test sets\n",
    "            X, y = given_df.drop('total_sales_price', axis=1), given_df['total_sales_price']\n",
    "            X_train, X_test, y_train, y_test = train_test_split(X, y, test_size=0.2, random_state=42, shuffle=shuffle)\n",
    "        elif train_test is not None:\n",
    "            temp_train = train_test[0]\n",
    "            temp_test = train_test[1]\n",
    "            X_train, y_train = temp_train.drop('total_sales_price', axis=1), temp_train['total_sales_price']\n",
    "            X_test, y_test = temp_test.drop('total_sales_price', axis=1), temp_test['total_sales_price']\n",
    "        elif X_y is not None:\n",
    "            X, y = X_y[0], X_y[1]\n",
    "            X_train, X_test, y_train, y_test = train_test_split(X, y, test_size=0.2, random_state=42, shuffle=shuffle)\n",
    "    except:\n",
    "        print(\"Caught an error in split_data function\")\n",
    "        raise\n",
    "\n",
    "    return X_train, X_test, y_train, y_test\n",
    "\n",
    "\n",
    "def train_test_split_encode(df, preprocessor=None, test_size=0.2, random_state=42):\n",
    "    # Split the data into train and test sets\n",
    "    X_train_temp, X_test_temp, y_train, y_test = split_data(given_df=df, train_test=None, shuffle=True)\n",
    "    if preprocessor is not None:\n",
    "        X_train = pd.DataFrame(preprocessor.fit_transform(X_train_temp), \\\n",
    "                                 columns=preprocessor.get_feature_names_out())\n",
    "        X_test = pd.DataFrame(preprocessor.transform(X_test_temp), \\\n",
    "                                columns=preprocessor.get_feature_names_out())\n",
    "    else:\n",
    "        X_train = X_train_temp.copy()\n",
    "        X_test = X_test_temp.copy()\n",
    "    return X_train, X_test, y_train, y_test\n",
    "\n",
    "\n",
    "# Define a function to plot the model \n",
    "def plot_model(model, X_test, y_test):\n",
    "    # Plot the model\n",
    "    y_pred = model.predict(X_test)\n",
    "    plt.scatter(y_test, y_pred)\n",
    "    plt.xlabel('Actual Sales Price')\n",
    "    plt.ylabel('Predicted Sales Price')\n",
    "    plt.show()\n",
    "\n",
    "\n",
    "# Define a function to plot the fit \n",
    "def plot_fit(model, X_test, y_test, num_of_points=150):\n",
    "    # Plot the model\n",
    "    y_pred = model.predict((X_test))\n",
    "    y_test_numpy = y_test.to_numpy()\n",
    "\n",
    "    n = int((y_test_numpy.shape[0])*0.8)\n",
    "    \n",
    "    plt.figure(figsize=(50,10))\n",
    "    plt.plot(y_pred[n:n+num_of_points], 'b+-', label='predicted', linewidth=3)\n",
    "    plt.plot(y_test_numpy[n:n+num_of_points],'ro--',label='actual', linewidth=3)\n",
    "    plt.legend()\n",
    "    plt.show()\n",
    "\n",
    "\n",
    "# Plot the residuals\n",
    "def plot_residuals(model, X_test, y_test):\n",
    "    y_pred = model.predict(X_test)\n",
    "    residuals = y_test - y_pred\n",
    "    plt.scatter(y_test, residuals)\n",
    "    plt.xlabel('Actual')\n",
    "    plt.ylabel('Residuals')\n",
    "    plt.title('Residuals vs Actual')\n",
    "    plt.show()\n",
    "\n",
    "\n",
    "# Define a function to save image\n",
    "def save_image(fig, image_name):\n",
    "    fig.savefig('../images/' + image_name + '.png')\n",
    "\n",
    "\n",
    "# Define a function to save the model\n",
    "def save_model(model, model_name):\n",
    "    joblib.dump(model, open('../models/' + model_name + '.pkl', 'wb'))\n",
    "\n",
    "# Define a function to load the model\n",
    "def load_model(model_name):\n",
    "    return joblib.load(open('../models/' + model_name + '.pkl', 'rb'))\n"
   ]
  },
  {
   "cell_type": "markdown",
   "metadata": {},
   "source": [
    "## 3. Data Preprocessing"
   ]
  },
  {
   "cell_type": "markdown",
   "metadata": {
    "execution": {
     "iopub.execute_input": "2025-04-04T06:32:25.477627Z",
     "iopub.status.busy": "2025-04-04T06:32:25.476232Z",
     "iopub.status.idle": "2025-04-04T06:32:25.482591Z",
     "shell.execute_reply": "2025-04-04T06:32:25.482107Z",
     "shell.execute_reply.started": "2025-04-04T06:32:25.477627Z"
    }
   },
   "source": [
    "### A. Data Cleaning"
   ]
  },
  {
   "cell_type": "markdown",
   "metadata": {},
   "source": [
    "#### i) Handle missing and duplicate values"
   ]
  },
  {
   "cell_type": "code",
   "execution_count": 9,
   "metadata": {
    "execution": {
     "iopub.execute_input": "2025-04-18T09:39:57.583290Z",
     "iopub.status.busy": "2025-04-18T09:39:57.582299Z",
     "iopub.status.idle": "2025-04-18T09:39:58.849376Z",
     "shell.execute_reply": "2025-04-18T09:39:58.848371Z",
     "shell.execute_reply.started": "2025-04-18T09:39:57.583290Z"
    }
   },
   "outputs": [
    {
     "name": "stdout",
     "output_type": "stream",
     "text": [
      "0\n",
      "0\n"
     ]
    }
   ],
   "source": [
    "# Drop duplicate entries\n",
    "df.drop_duplicates(inplace=True, ignore_index=True)\n",
    "print(df.duplicated().sum())\n",
    "\n",
    "print(df.isnull().sum().sum())"
   ]
  },
  {
   "cell_type": "markdown",
   "metadata": {},
   "source": [
    "#### ii) Fix inconsistent categorical data\n",
    "\n",
    "Since we are using the cleaned data from the eda notebook, \n",
    "the missing and inconsistent values are already handled."
   ]
  },
  {
   "cell_type": "markdown",
   "metadata": {},
   "source": [
    "#### iii) Handle outliers"
   ]
  },
  {
   "cell_type": "code",
   "execution_count": 10,
   "metadata": {
    "execution": {
     "iopub.execute_input": "2025-04-18T09:39:59.119739Z",
     "iopub.status.busy": "2025-04-18T09:39:59.118726Z",
     "iopub.status.idle": "2025-04-18T09:39:59.240958Z",
     "shell.execute_reply": "2025-04-18T09:39:59.238960Z",
     "shell.execute_reply.started": "2025-04-18T09:39:59.119739Z"
    }
   },
   "outputs": [],
   "source": [
    "# Finding outliers\n",
    "outliers_df = pd.DataFrame(columns=list(df))\n",
    "\n",
    "# Define a function to print and plot the outliers\n",
    "def print_plot_outliers(outlier_df, method_name):\n",
    "    # Print the number of outliers detected\n",
    "    print(f\"Number of outliers detected: {len(outlier_df)}\\n\")\n",
    "    # Plot the outliers\n",
    "    plt.figure(figsize=(12, 6))\n",
    "    sns.boxplot(data=outlier_df, orient='h')\n",
    "    plt.title('Outliers Detected using ' + method_name)\n",
    "    plt.xlabel(method_name)\n",
    "    plt.show()\n"
   ]
  },
  {
   "cell_type": "code",
   "execution_count": 11,
   "metadata": {
    "execution": {
     "iopub.execute_input": "2025-04-18T09:39:59.243956Z",
     "iopub.status.busy": "2025-04-18T09:39:59.242957Z",
     "iopub.status.idle": "2025-04-18T09:39:59.816392Z",
     "shell.execute_reply": "2025-04-18T09:39:59.814167Z",
     "shell.execute_reply.started": "2025-04-18T09:39:59.243956Z"
    }
   },
   "outputs": [],
   "source": [
    "# Save cleaned dataframe and Keep final test data for later\n",
    "df, final_test_df = train_test_split(df, test_size=0.2, random_state=42)\n",
    "\n",
    "df_clean = df.copy()\n",
    "df_clean.to_pickle('../data/processed/modeling_cleaned_wo_testdf.pkl')\n",
    "final_test_df.to_pickle('../data/processed/modeling_cleaned_with_final_testdf.pkl')"
   ]
  },
  {
   "cell_type": "markdown",
   "metadata": {},
   "source": [
    "### B. Feature Engineering"
   ]
  },
  {
   "cell_type": "markdown",
   "metadata": {},
   "source": [
    "#### i) Create new features"
   ]
  },
  {
   "cell_type": "code",
   "execution_count": 12,
   "metadata": {
    "execution": {
     "iopub.execute_input": "2025-04-18T09:39:59.818548Z",
     "iopub.status.busy": "2025-04-18T09:39:59.818548Z",
     "iopub.status.idle": "2025-04-18T09:39:59.985162Z",
     "shell.execute_reply": "2025-04-18T09:39:59.983852Z",
     "shell.execute_reply.started": "2025-04-18T09:39:59.818548Z"
    }
   },
   "outputs": [],
   "source": [
    "train_df, test_df = train_test_split(df, test_size=0.2, random_state=42)"
   ]
  },
  {
   "cell_type": "code",
   "execution_count": 13,
   "metadata": {
    "execution": {
     "iopub.execute_input": "2025-04-18T09:39:59.987169Z",
     "iopub.status.busy": "2025-04-18T09:39:59.987169Z",
     "iopub.status.idle": "2025-04-18T09:40:00.358512Z",
     "shell.execute_reply": "2025-04-18T09:40:00.357232Z",
     "shell.execute_reply.started": "2025-04-18T09:39:59.987169Z"
    }
   },
   "outputs": [
    {
     "name": "stdout",
     "output_type": "stream",
     "text": [
      "         Feature         VIF\n",
      "0   carat_weight    9.375322\n",
      "1  depth_percent  328.005899\n",
      "2  table_percent  266.073537\n",
      "3    meas_length   40.112458\n",
      "4     meas_width  355.171188\n",
      "5     meas_depth  481.310562\n"
     ]
    }
   ],
   "source": [
    "# Calculate VIF for numerical features\n",
    "numerical_columns = train_df.select_dtypes(include=['float64', 'int64']).columns\n",
    "numerical_features = numerical_columns.drop('total_sales_price')\n",
    "numerical_X = train_df[numerical_features]\n",
    "\n",
    "vif_data = pd.DataFrame()\n",
    "vif_data['Feature'] = numerical_X.columns\n",
    "vif_data['VIF'] = [vif(numerical_X.values, i) for i in range(numerical_X.shape[1])]\n",
    "\n",
    "print(vif_data)"
   ]
  },
  {
   "cell_type": "code",
   "execution_count": 14,
   "metadata": {
    "execution": {
     "iopub.execute_input": "2025-04-18T09:40:00.359525Z",
     "iopub.status.busy": "2025-04-18T09:40:00.359525Z",
     "iopub.status.idle": "2025-04-18T09:40:00.778180Z",
     "shell.execute_reply": "2025-04-18T09:40:00.777176Z",
     "shell.execute_reply.started": "2025-04-18T09:40:00.359525Z"
    }
   },
   "outputs": [
    {
     "name": "stdout",
     "output_type": "stream",
     "text": [
      "                Feature       VIF\n",
      "0          carat_weight  1.789111\n",
      "1  depth_to_table_ratio  1.789111\n"
     ]
    }
   ],
   "source": [
    "# Define a function for feature engineering\n",
    "def feature_engineering_numerical(df, test_df=None):\n",
    "    if test_df is not None:\n",
    "        df = pd.concat([df, test_df], axis=0)\n",
    "    # Create a copy of the DataFrame to avoid modifying the original data\n",
    "    temp_df = df.copy()\n",
    "\n",
    "    # Create new features(ratios)\n",
    "    temp_df['depth_to_table_ratio'] = round((temp_df['depth_percent'] / temp_df['table_percent']), 2)\n",
    "    # Drop individual dimensions to reduce multicollinearity\n",
    "    drop_columns = ['meas_width', 'meas_depth', \\\n",
    "        'depth_percent','table_percent', 'meas_length']\n",
    "    temp_df = temp_df.drop(drop_columns, axis=1)\n",
    "\n",
    "    if test_df is not None:\n",
    "        temp_test_df = temp_df.loc[test_df.index,:]\n",
    "        temp_train_df = temp_df.loc[train_df.index,:]\n",
    "    else:\n",
    "        temp_train_df = temp_df.copy()\n",
    "        temp_test_df = None\n",
    "\n",
    "    num_features = temp_train_df.select_dtypes(exclude=['object']).columns.drop('total_sales_price')\n",
    "    return num_features, temp_train_df, temp_test_df\n",
    "\n",
    "\n",
    "# Apply feature engineering to the data\n",
    "numerical_features, train_df_eng, test_df_eng  = feature_engineering_numerical(train_df, test_df=test_df)\n",
    "\n",
    "# Check for multicollinearity using VIF after dropping highly correlated features\n",
    "train_numerical_X = train_df_eng[numerical_features]\n",
    "vif_data = pd.DataFrame()\n",
    "vif_data['Feature'] = train_numerical_X.columns\n",
    "vif_data['VIF'] = [vif(train_numerical_X.values, i) for i in range(train_numerical_X.shape[1])]\n",
    "\n",
    "print(vif_data)"
   ]
  },
  {
   "cell_type": "markdown",
   "metadata": {},
   "source": [
    "Tree Regressor models would be the better suited predictor rather than linear regression models as there is no linear relationship(most likely) between target variable and features. We will check that later on in the notebook."
   ]
  },
  {
   "cell_type": "markdown",
   "metadata": {},
   "source": [
    "#### ii) Transformations"
   ]
  },
  {
   "cell_type": "code",
   "execution_count": 15,
   "metadata": {
    "execution": {
     "iopub.execute_input": "2025-04-18T09:40:00.780176Z",
     "iopub.status.busy": "2025-04-18T09:40:00.780176Z",
     "iopub.status.idle": "2025-04-18T09:40:25.017666Z",
     "shell.execute_reply": "2025-04-18T09:40:25.016741Z",
     "shell.execute_reply.started": "2025-04-18T09:40:00.780176Z"
    }
   },
   "outputs": [
    {
     "data": {
      "image/png": "[encoded data removed]",
      "text/plain": [
       "<Figure size 1000x500 with 1 Axes>"
      ]
     },
     "metadata": {},
     "output_type": "display_data"
    },
    {
     "data": {
      "image/png": "[encoded data removed]",
      "text/plain": [
       "<Figure size 1000x500 with 1 Axes>"
      ]
     },
     "metadata": {},
     "output_type": "display_data"
    }
   ],
   "source": [
    "# visualizing the distribution of the target variable\n",
    "y_train = train_df['total_sales_price']\n",
    "plt.figure(figsize=(10, 5))\n",
    "sns.histplot(y_train, kde=True)\n",
    "plt.show()\n",
    "\n",
    "# visualizing the distribution of the target variable after applying log transformation\n",
    "log_transformer = FunctionTransformer(np.log1p)\n",
    "y_train_log = log_transformer.fit_transform(y_train.values.reshape(-1, 1))\n",
    "plt.figure(figsize=(10, 5))\n",
    "sns.histplot(y_train_log, kde=True)\n",
    "plt.show()"
   ]
  },
  {
   "cell_type": "markdown",
   "metadata": {},
   "source": [
    "### C. Encoding and Scaling"
   ]
  },
  {
   "cell_type": "markdown",
   "metadata": {},
   "source": [
    "#### i) Encode categorical variables"
   ]
  },
  {
   "cell_type": "code",
   "execution_count": 16,
   "metadata": {},
   "outputs": [
    {
     "name": "stdout",
     "output_type": "stream",
     "text": [
      "17\n"
     ]
    }
   ],
   "source": [
    "categorical_features = [x for x in df.columns if df[x].dtype == 'object']\n",
    "numerical_features = [x for x in df.columns if df[x].dtype != 'object']\n",
    "numerical_features_wo_y = numerical_features.copy()\n",
    "numerical_features_wo_y.remove('total_sales_price')\n",
    "print(len(categorical_features))\n",
    "\n",
    "numerical_X = df[numerical_features_wo_y]\n",
    "numerical_df = df[numerical_features]"
   ]
  },
  {
   "cell_type": "code",
   "execution_count": 17,
   "metadata": {
    "execution": {
     "iopub.execute_input": "2025-04-18T09:40:25.018865Z",
     "iopub.status.busy": "2025-04-18T09:40:25.018865Z",
     "iopub.status.idle": "2025-04-18T09:40:25.329906Z",
     "shell.execute_reply": "2025-04-18T09:40:25.327990Z",
     "shell.execute_reply.started": "2025-04-18T09:40:25.018865Z"
    },
    "scrolled": true
   },
   "outputs": [
    {
     "data": {
      "application/vnd.microsoft.datawrangler.viewer.v0+json": {
       "columns": [
        {
         "name": "index",
         "rawType": "object",
         "type": "string"
        },
        {
         "name": "0",
         "rawType": "object",
         "type": "unknown"
        }
       ],
       "conversionMethod": "pd.DataFrame",
       "ref": "3be77303-7f50-4ece-996f-48342a5cc461",
       "rows": [
        [
         "cut",
         "['Round', 'Oval', 'Radiant', 'Princess', 'Cushion Modified', 'Emerald', 'Pear', 'Asscher', 'Heart', 'Marquise', 'Cushion']"
        ],
        [
         "color",
         "['I', 'H', 'E', 'G', 'D', 'L', 'unknown', 'F', 'J', 'K', 'M']"
        ],
        [
         "clarity",
         "['VS1', 'VVS2', 'VS2', 'VVS1', 'SI2', 'I1', 'IF', 'SI1', 'I2', 'I3']"
        ],
        [
         "cut_quality",
         "['Excellent', 'unknown', 'Very Good', 'Good', 'Fair', 'Ideal']"
        ],
        [
         "lab",
         "['GIA', 'IGI', 'HRD']"
        ],
        [
         "symmetry",
         "['Very Good', 'Excellent', 'Good', 'Fair', 'Poor']"
        ],
        [
         "polish",
         "['Very Good', 'Excellent', 'Good', 'Fair', 'Poor']"
        ],
        [
         "eye_clean",
         "['unknown', 'Yes', 'Borderline', 'E1', 'No']"
        ],
        [
         "culet_size",
         "['N', 'unknown', 'L', 'VS', 'M', 'SL', 'S', 'VL', 'EL']"
        ],
        [
         "culet_condition",
         "['unknown', 'Pointed', 'Chipped', 'Abraded']"
        ],
        [
         "girdle_min",
         "['M', 'unknown', 'TN', 'STK', 'TK', 'VTK', 'VTN', 'XTK', 'XTN', 'STN']"
        ],
        [
         "girdle_max",
         "['unknown', 'STK', 'M', 'TK', 'VTK', 'XTK', 'TN', 'VTN', 'XTN', 'STN']"
        ],
        [
         "fluor_color",
         "['unknown', 'Blue', 'Yellow', 'White', 'Orange', 'Green']"
        ],
        [
         "fancy_color_dominant_color",
         "['unknown', 'Yellow', 'Pink', 'Brown', 'Green', 'Gray', 'Purple', 'Orange', 'Blue', 'Chameleon', 'Red', 'Black']"
        ],
        [
         "fancy_color_secondary_color",
         "['unknown', 'Orange', 'Brown', 'Gray', 'Pink', 'Green', 'Yellow', 'Purple', 'Blue', 'Violet', 'Red']"
        ],
        [
         "fancy_color_overtone",
         "['unknown', 'Pinkish', 'Brownish', 'Orangey', 'Greenish', 'Yellowish', 'Purplish']"
        ],
        [
         "fancy_color_intensity",
         "['unknown', 'Fancy', 'Fancy Intense', 'Fancy Deep', 'Light', 'Fancy Vivid', 'Fancy Light', 'Fancy Dark', 'Very Light', 'Faint']"
        ]
       ],
       "shape": {
        "columns": 1,
        "rows": 17
       }
      },
      "text/html": [
       "<div>\n",
       "<style scoped>\n",
       "    .dataframe tbody tr th:only-of-type {\n",
       "        vertical-align: middle;\n",
       "    }\n",
       "\n",
       "    .dataframe tbody tr th {\n",
       "        vertical-align: top;\n",
       "    }\n",
       "\n",
       "    .dataframe thead th {\n",
       "        text-align: right;\n",
       "    }\n",
       "</style>\n",
       "<table border=\"1\" class=\"dataframe\">\n",
       "  <thead>\n",
       "    <tr style=\"text-align: right;\">\n",
       "      <th></th>\n",
       "      <th>0</th>\n",
       "    </tr>\n",
       "  </thead>\n",
       "  <tbody>\n",
       "    <tr>\n",
       "      <th>cut</th>\n",
       "      <td>[Round, Oval, Radiant, Princess, Cushion Modified, Emerald, Pear, Asscher, Heart, Marquise, Cushion]</td>\n",
       "    </tr>\n",
       "    <tr>\n",
       "      <th>color</th>\n",
       "      <td>[I, H, E, G, D, L, unknown, F, J, K, M]</td>\n",
       "    </tr>\n",
       "    <tr>\n",
       "      <th>clarity</th>\n",
       "      <td>[VS1, VVS2, VS2, VVS1, SI2, I1, IF, SI1, I2, I3]</td>\n",
       "    </tr>\n",
       "    <tr>\n",
       "      <th>cut_quality</th>\n",
       "      <td>[Excellent, unknown, Very Good, Good, Fair, Ideal]</td>\n",
       "    </tr>\n",
       "    <tr>\n",
       "      <th>lab</th>\n",
       "      <td>[GIA, IGI, HRD]</td>\n",
       "    </tr>\n",
       "    <tr>\n",
       "      <th>symmetry</th>\n",
       "      <td>[Very Good, Excellent, Good, Fair, Poor]</td>\n",
       "    </tr>\n",
       "    <tr>\n",
       "      <th>polish</th>\n",
       "      <td>[Very Good, Excellent, Good, Fair, Poor]</td>\n",
       "    </tr>\n",
       "    <tr>\n",
       "      <th>eye_clean</th>\n",
       "      <td>[unknown, Yes, Borderline, E1, No]</td>\n",
       "    </tr>\n",
       "    <tr>\n",
       "      <th>culet_size</th>\n",
       "      <td>[N, unknown, L, VS, M, SL, S, VL, EL]</td>\n",
       "    </tr>\n",
       "    <tr>\n",
       "      <th>culet_condition</th>\n",
       "      <td>[unknown, Pointed, Chipped, Abraded]</td>\n",
       "    </tr>\n",
       "    <tr>\n",
       "      <th>girdle_min</th>\n",
       "      <td>[M, unknown, TN, STK, TK, VTK, VTN, XTK, XTN, STN]</td>\n",
       "    </tr>\n",
       "    <tr>\n",
       "      <th>girdle_max</th>\n",
       "      <td>[unknown, STK, M, TK, VTK, XTK, TN, VTN, XTN, STN]</td>\n",
       "    </tr>\n",
       "    <tr>\n",
       "      <th>fluor_color</th>\n",
       "      <td>[unknown, Blue, Yellow, White, Orange, Green]</td>\n",
       "    </tr>\n",
       "    <tr>\n",
       "      <th>fancy_color_dominant_color</th>\n",
       "      <td>[unknown, Yellow, Pink, Brown, Green, Gray, Purple, Orange, Blue, Chameleon, Red, Black]</td>\n",
       "    </tr>\n",
       "    <tr>\n",
       "      <th>fancy_color_secondary_color</th>\n",
       "      <td>[unknown, Orange, Brown, Gray, Pink, Green, Yellow, Purple, Blue, Violet, Red]</td>\n",
       "    </tr>\n",
       "    <tr>\n",
       "      <th>fancy_color_overtone</th>\n",
       "      <td>[unknown, Pinkish, Brownish, Orangey, Greenish, Yellowish, Purplish]</td>\n",
       "    </tr>\n",
       "    <tr>\n",
       "      <th>fancy_color_intensity</th>\n",
       "      <td>[unknown, Fancy, Fancy Intense, Fancy Deep, Light, Fancy Vivid, Fancy Light, Fancy Dark, Very Light, Faint]</td>\n",
       "    </tr>\n",
       "  </tbody>\n",
       "</table>\n",
       "</div>"
      ],
      "text/plain": [
       "                                                                                                                                       0\n",
       "cut                          [Round, Oval, Radiant, Princess, Cushion Modified, Emerald, Pear, Asscher, Heart, Marquise, Cushion]       \n",
       "color                        [I, H, E, G, D, L, unknown, F, J, K, M]                                                                    \n",
       "clarity                      [VS1, VVS2, VS2, VVS1, SI2, I1, IF, SI1, I2, I3]                                                           \n",
       "cut_quality                  [Excellent, unknown, Very Good, Good, Fair, Ideal]                                                         \n",
       "lab                          [GIA, IGI, HRD]                                                                                            \n",
       "symmetry                     [Very Good, Excellent, Good, Fair, Poor]                                                                   \n",
       "polish                       [Very Good, Excellent, Good, Fair, Poor]                                                                   \n",
       "eye_clean                    [unknown, Yes, Borderline, E1, No]                                                                         \n",
       "culet_size                   [N, unknown, L, VS, M, SL, S, VL, EL]                                                                      \n",
       "culet_condition              [unknown, Pointed, Chipped, Abraded]                                                                       \n",
       "girdle_min                   [M, unknown, TN, STK, TK, VTK, VTN, XTK, XTN, STN]                                                         \n",
       "girdle_max                   [unknown, STK, M, TK, VTK, XTK, TN, VTN, XTN, STN]                                                         \n",
       "fluor_color                  [unknown, Blue, Yellow, White, Orange, Green]                                                              \n",
       "fancy_color_dominant_color   [unknown, Yellow, Pink, Brown, Green, Gray, Purple, Orange, Blue, Chameleon, Red, Black]                   \n",
       "fancy_color_secondary_color  [unknown, Orange, Brown, Gray, Pink, Green, Yellow, Purple, Blue, Violet, Red]                             \n",
       "fancy_color_overtone         [unknown, Pinkish, Brownish, Orangey, Greenish, Yellowish, Purplish]                                       \n",
       "fancy_color_intensity        [unknown, Fancy, Fancy Intense, Fancy Deep, Light, Fancy Vivid, Fancy Light, Fancy Dark, Very Light, Faint]"
      ]
     },
     "metadata": {},
     "output_type": "display_data"
    }
   ],
   "source": [
    "# Categories for encoding \n",
    "cat_values = pd.DataFrame(train_df[categorical_features].apply(lambda x: x.unique().tolist()))\n",
    "with pd.option_context('display.max_colwidth', 1):\n",
    "    display(cat_values)"
   ]
  },
  {
   "cell_type": "code",
   "execution_count": 74,
   "metadata": {
    "execution": {
     "iopub.execute_input": "2025-04-18T09:40:25.331907Z",
     "iopub.status.busy": "2025-04-18T09:40:25.331907Z",
     "iopub.status.idle": "2025-04-18T09:40:25.360731Z",
     "shell.execute_reply": "2025-04-18T09:40:25.358718Z",
     "shell.execute_reply.started": "2025-04-18T09:40:25.331907Z"
    }
   },
   "outputs": [],
   "source": [
    "# Dictionary to store ordered categorical values for encoding in ascending order\n",
    "categorical_features = [x for x in train_df.columns if train_df[x].dtype == 'object']\n",
    "ordered_columns = [ 'color', 'clarity','cut_quality', 'symmetry', 'polish', 'eye_clean', 'fancy_color_intensity', 'girdle_min', 'girdle_max']\n",
    "unordered_columns = [x for x in categorical_features if x not in ordered_columns]\n",
    "\n",
    "cat_values.loc['color',0] = ['M','L','K','J','I','H','G','F','E','D']\n",
    "# cat_values.loc['color',0] = ['unknown', 'faint color', 'near colorless', 'colorless']\n",
    "\n",
    "cat_values.loc['clarity',0] = ['I3', 'I2', 'I1','SI3', 'SI2', 'SI1', 'VS2', 'VS1', 'VVS2', 'VVS1', 'IF']\n",
    "# cat_values.loc['clarity',0] = ['unknown', 'I', 'SI', 'VS', 'VVS', 'IF']\n",
    "\n",
    "list1 = [ 'Poor','Fair', 'Good', 'Very Good', 'Excellent', 'Ideal']\n",
    "cat_values.loc['cut_quality',0] = list1\n",
    "cat_values.loc['symmetry',0] = list1\n",
    "cat_values.loc['polish',0] = list1\n",
    "\n",
    "cat_values.loc['eye_clean',0] = ['unknown', 'No', 'Borderline', 'E1', 'Yes']\n",
    "cat_values.loc['culet_size',0] = ['unknown', 'N', 'VS', 'S', 'M', 'SL', 'L', 'VL', 'EL']\n",
    "\n",
    "list2 = ['unknown', 'XTN', 'VTN', 'TN', 'STN', 'M', 'STK', 'TK', 'VTK', 'XTK']\n",
    "cat_values.loc['girdle_min',0] = list2\n",
    "cat_values.loc['girdle_max',0] = list2\n",
    "\n",
    "cat_values.loc['fancy_color_intensity',0] = ['Faint', 'Very Light', 'Light', 'Fancy Light', 'Fancy', 'Fancy Intense', 'Fancy Vivid', 'Fancy Dark', 'Fancy Deep']"
   ]
  },
  {
   "cell_type": "code",
   "execution_count": null,
   "metadata": {
    "execution": {
     "iopub.execute_input": "2025-04-18T09:40:25.363232Z",
     "iopub.status.busy": "2025-04-18T09:40:25.362719Z",
     "iopub.status.idle": "2025-04-18T09:40:25.376722Z",
     "shell.execute_reply": "2025-04-18T09:40:25.375145Z",
     "shell.execute_reply.started": "2025-04-18T09:40:25.363232Z"
    }
   },
   "outputs": [],
   "source": [
    "# Define preprocessors\n",
    "preprocessors = {}\n",
    "\n",
    "# ordinal for ordered data + one-hot encoding for unordered data\n",
    "preprocessors['ordinal+one_hot'] = make_column_transformer(\n",
    "    (OrdinalEncoder(categories=cat_values[0][ordered_columns].to_list(), \\\n",
    "                    handle_unknown='use_encoded_value', unknown_value=-1), ordered_columns),\n",
    "    (OneHotEncoder(handle_unknown='ignore'), unordered_columns),\n",
    "    remainder='passthrough',\n",
    "    verbose_feature_names_out=False\n",
    ")\n",
    "\n",
    "preprocessors['one_hot'] = make_column_transformer(\n",
    "    (OneHotEncoder(handle_unknown='ignore'), categorical_features),\n",
    "    remainder='passthrough',\n",
    "    verbose_feature_names_out=False\n",
    ")"
   ]
  },
  {
   "cell_type": "markdown",
   "metadata": {},
   "source": [
    "#### ii) Scale numerical features"
   ]
  },
  {
   "cell_type": "code",
   "execution_count": null,
   "metadata": {
    "execution": {
     "iopub.execute_input": "2025-04-18T09:40:25.386872Z",
     "iopub.status.busy": "2025-04-18T09:40:25.385314Z",
     "iopub.status.idle": "2025-04-18T09:40:25.408806Z",
     "shell.execute_reply": "2025-04-18T09:40:25.405810Z",
     "shell.execute_reply.started": "2025-04-18T09:40:25.386872Z"
    }
   },
   "outputs": [],
   "source": [
    "# Compare different scalers on base model\n",
    "numerical_columns = train_df_eng.select_dtypes(exclude=['object']).columns\n",
    "numerical_features = numerical_columns.drop('total_sales_price')\n",
    "\n",
    "scalers = [RobustScaler(), StandardScaler(with_mean=False, with_std=True), MinMaxScaler(), Normalizer(norm='l2'), \n",
    "           QuantileTransformer(output_distribution='normal'), PowerTransformer(method='yeo-johnson')]"
   ]
  },
  {
   "cell_type": "markdown",
   "metadata": {},
   "source": [
    "**Note:**\n",
    "Normalizer, RobustScalar, and StandardScalar work the best, with first priority going to the Normalizer."
   ]
  },
  {
   "cell_type": "markdown",
   "metadata": {},
   "source": [
    "## 4. Feature Selection"
   ]
  },
  {
   "cell_type": "code",
   "execution_count": 84,
   "metadata": {
    "execution": {
     "iopub.execute_input": "2025-04-18T09:40:25.409807Z",
     "iopub.status.busy": "2025-04-18T09:40:25.409807Z",
     "iopub.status.idle": "2025-04-18T09:40:25.424188Z",
     "shell.execute_reply": "2025-04-18T09:40:25.421938Z",
     "shell.execute_reply.started": "2025-04-18T09:40:25.409807Z"
    }
   },
   "outputs": [],
   "source": [
    "from sklearn.feature_selection import RFECV, SelectFromModel\n",
    "\n",
    "# Wrapper methods: recursive feature eliminationabs\n",
    "feature_selector_rfecv = RFECV(\n",
    "    estimator=RandomForestRegressor(n_estimators=50),\n",
    "    cv=5,\n",
    "    scoring=\"neg_mean_squared_error\")\n",
    "\n",
    "# Embedded methods: SelectFromModel\n",
    "feature_selector_sfm = SelectFromModel(\n",
    "    RandomForestRegressor(random_state=42), \n",
    "    threshold='median')\n",
    "\n",
    "feature_selector_kbest = SelectKBest(score_func=f_regression, k=15)\n"
   ]
  },
  {
   "cell_type": "markdown",
   "metadata": {},
   "source": [
    "## 5. Modeling"
   ]
  },
  {
   "cell_type": "markdown",
   "metadata": {},
   "source": [
    "### A. Base Model\n",
    "We will train a Random Forest Model with all the features and measure the errors to assess the base models' accuracy."
   ]
  },
  {
   "cell_type": "code",
   "execution_count": 65,
   "metadata": {
    "execution": {
     "iopub.execute_input": "2025-04-18T09:40:25.426185Z",
     "iopub.status.busy": "2025-04-18T09:40:25.426185Z",
     "iopub.status.idle": "2025-04-18T09:40:25.453602Z",
     "shell.execute_reply": "2025-04-18T09:40:25.452398Z",
     "shell.execute_reply.started": "2025-04-18T09:40:25.426185Z"
    }
   },
   "outputs": [],
   "source": [
    "# CROSS-VALIDATION FUNCTIONS\n",
    "\n",
    "scoring_for_cv = {\n",
    "    'mae': 'neg_mean_absolute_error',\n",
    "    'rmse': 'neg_root_mean_squared_error',\n",
    "    'r2': 'r2',\n",
    "    'medae': 'neg_median_absolute_error'}\n",
    "\n",
    "# Function to calculate average metrics from cross-validation results\n",
    "def cross_validation_metrics(cv_results):\n",
    "    cv_metrics = {  # Convert negative metrics to positive\n",
    "        'cv_mae': -np.mean(cv_results['test_mae']),\n",
    "        'cv_rmse': np.sqrt(-np.mean(cv_results['test_rmse'])),\n",
    "        'cv_r2': np.mean(cv_results['test_r2']),\n",
    "        'cv_medae': -np.mean(cv_results['test_medae']) \n",
    "    }\n",
    "    return cv_metrics\n",
    "\n",
    "# Function to cross validate the model\n",
    "def cross_validate_model(model, X, y, cv=5):\n",
    "    X_train_sample, y_train_sample = X, y\n",
    "\n",
    "    scoring_metrics = scoring_for_cv \n",
    "\n",
    "    # Cross-validate\n",
    "    cv_results = cross_validate(model, X_train_sample, y_train_sample, cv=cv, scoring=scoring_metrics, verbose=3, error_score='raise')\n",
    "    cv_metrics = cross_validation_metrics(cv_results)\n",
    "    return cv_metrics "
   ]
  },
  {
   "cell_type": "code",
   "execution_count": null,
   "metadata": {
    "execution": {
     "iopub.execute_input": "2025-04-18T09:40:25.454612Z",
     "iopub.status.busy": "2025-04-18T09:40:25.454612Z",
     "iopub.status.idle": "2025-04-18T09:40:25.487170Z",
     "shell.execute_reply": "2025-04-18T09:40:25.484169Z",
     "shell.execute_reply.started": "2025-04-18T09:40:25.454612Z"
    }
   },
   "outputs": [],
   "source": [
    "# Define a function to get the feature importances\n",
    "def get_feature_importances(model, X_train=None, feature_names=None):\n",
    "    \"\"\"\n",
    "    Extracts feature importances or coefficients from a model or pipeline.\n",
    "    Works with:\n",
    "    - Tree-based models (RandomForest, XGBoost: `.feature_importances_`)\n",
    "    - Linear models (Ridge, Lasso: `.coef_`)\n",
    "    - Pipelines (extracts the final estimator's importances)\n",
    "    - TransformedTargetRegressor (unwraps the inner model)\n",
    "    \n",
    "    Args:\n",
    "        model: Fitted scikit-learn model or pipeline.\n",
    "        X_train: Training data (used to get feature names).\n",
    "        \n",
    "    Returns:\n",
    "        DataFrame of feature importances, sorted in descending order.\n",
    "    \"\"\"\n",
    "    # Handle TransformedTargetRegressor (extract the inner regressor)\n",
    "    if hasattr(model, 'regressor'):\n",
    "        model = model.regressor\n",
    "    \n",
    "    # Handle Pipeline (extract the final step)\n",
    "    if hasattr(model, 'named_steps'):\n",
    "        model = model.named_steps[list(model.named_steps.keys())[-1]]\n",
    "    \n",
    "    # Get importances/coefficients\n",
    "    if hasattr(model, 'feature_importances_'):\n",
    "        importances = model.feature_importances_\n",
    "    elif hasattr(model, 'coef_'):\n",
    "        importances = model.coef_\n",
    "        # For linear models, take absolute values (sign doesn't indicate importance)\n",
    "        importances = np.abs(importances)\n",
    "    else:\n",
    "        raise AttributeError(\n",
    "            'Model does not have \"feature_importances_\" or \"coef_\". '\n",
    "            f'Model type: {type(model).__name__}'\n",
    "        )\n",
    "    \n",
    "    # Get feature names (handle ColumnTransformer)\n",
    "    if feature_names is not None:\n",
    "        names = feature_names\n",
    "    elif hasattr(model, 'feature_names_in_'):\n",
    "        names = model.feature_names_in_\n",
    "    elif hasattr(X_train, 'columns'):\n",
    "        feature_names = X_train.columns.tolist()\n",
    "    else:\n",
    "        feature_names = [f'feature_{i}' for i in range(len(importances))]\n",
    "    \n",
    "    # Create DataFrame\n",
    "    feature_importances = pd.DataFrame(\n",
    "        {'importance': importances},\n",
    "        index=feature_names\n",
    "    ).sort_values('importance', ascending=False)\n",
    "    \n",
    "    return feature_importances"
   ]
  },
  {
   "cell_type": "code",
   "execution_count": 77,
   "metadata": {
    "execution": {
     "iopub.execute_input": "2025-04-18T09:44:19.279205Z",
     "iopub.status.busy": "2025-04-18T09:44:19.278203Z",
     "iopub.status.idle": "2025-04-18T09:44:19.298111Z",
     "shell.execute_reply": "2025-04-18T09:44:19.296557Z",
     "shell.execute_reply.started": "2025-04-18T09:44:19.279205Z"
    }
   },
   "outputs": [],
   "source": [
    "# Define a function to fit and evaluate the model \n",
    "def evaluate_model(model, X_train, y_train, X_test, y_test, cv=None, verbose=True):\n",
    "    \"\"\"\n",
    "    Fit a model and evaluate its performance on the test set.\n",
    "\n",
    "    Parameters:\n",
    "    - model: The machine learning model to evaluate.\n",
    "    - X_train, y_train: Training data.\n",
    "    - X_test, y_test: Test data.\n",
    "    - verbose: If True, print the evaluation metrics.\n",
    "\n",
    "    Returns:\n",
    "    - clf: The trained model.\n",
    "    - metrics: A dictionary of evaluation metrics.\n",
    "    \"\"\"\n",
    "    # Cross-validate the model\n",
    "    if cv is not None:\n",
    "        cv_metrics = cross_validate_model(model,X_train,y_train,cv)\n",
    "    else: \n",
    "        cv_metrics = None\n",
    "\n",
    "    \n",
    "    # Fit and Evaluate the model\n",
    "    trained_clf = model.fit(X_train, y_train)\n",
    "    y_pred = trained_clf.predict(X_test)\n",
    "\n",
    "    metrics = {\n",
    "        'MAE': mean_absolute_error(y_test, y_pred),\n",
    "        'MSE': mean_squared_error(y_test, y_pred),\n",
    "        'RMSE': np.sqrt(mean_squared_error(y_test, y_pred)),\n",
    "        'R^2': r2_score(y_test, y_pred),\n",
    "        'MAPE': mean_absolute_percentage_error(y_test, y_pred),\n",
    "        'MedAE': median_absolute_error(y_test, y_pred)\n",
    "    }\n",
    "\n",
    "    # Print the evaluation metrics\n",
    "    if verbose:\n",
    "        print('Test Evaluation Metrics:')\n",
    "        for metric, value in metrics.items():\n",
    "            print(f'{metric}: {value:.4f}')\n",
    "        if cv is not None:\n",
    "            print('\\nCross-Validation Metrics:')\n",
    "            for metric, value in cv_metrics.items():\n",
    "                print(f'{metric}: {value:.4f}')\n",
    "                \n",
    "    return trained_clf, metrics, cv_metrics"
   ]
  },
  {
   "cell_type": "code",
   "execution_count": null,
   "metadata": {
    "execution": {
     "iopub.execute_input": "2025-04-18T09:44:19.332447Z",
     "iopub.status.busy": "2025-04-18T09:44:19.331925Z",
     "iopub.status.idle": "2025-04-18T09:44:19.360000Z",
     "shell.execute_reply": "2025-04-18T09:44:19.358716Z",
     "shell.execute_reply.started": "2025-04-18T09:44:19.332447Z"
    }
   },
   "outputs": [
    {
     "name": "stdout",
     "output_type": "stream",
     "text": [
      "Test Evaluation Metrics:\n",
      "MAE: 944.0292\n",
      "MSE: 103549045.9858\n",
      "RMSE: 10175.9052\n",
      "R^2: 0.8666\n",
      "MAPE: 0.0972\n",
      "MedAE: 124.8804\n",
      "                                           importance\n",
      "num__carat_weight                            0.706437\n",
      "cat_ordered__color                           0.130033\n",
      "cat_ordered__clarity                         0.050586\n",
      "cat_unordered__fancy_color_dominant_color    0.043718\n",
      "cat_ordered__fancy_color_intensity           0.023553\n",
      "num__depth_to_table_ratio                    0.020072\n",
      "cat_unordered__cut                           0.009552\n",
      "cat_ordered__girdle_min                      0.005579\n",
      "cat_ordered__girdle_max                      0.005377\n",
      "cat_unordered__lab                           0.005093\n"
     ]
    }
   ],
   "source": [
    "\n",
    "def train_evaluate_pipeline(estimator, train_df, test_df, sample_split=1.0, cv=None, verbose=True, features=False):\n",
    "    \"\"\"\n",
    "    1. Apply feature engineering on train and test data, then sample the data\n",
    "    2. Train and evaluate a pipeline with preprocessing, feature selection, and model\n",
    "\n",
    "    Parameters:\n",
    "    - estimator: The machine learning pipeline to evaluate\n",
    "    - train_df: The training DataFrame\n",
    "    - test_df: The test DataFrame\n",
    "    - log_transform: If True, apply log transformation to the target variable\n",
    "    - sample_split: Fraction of the data to sample for training\n",
    "    - cv: Cross-validation folds (Default: None)\n",
    "    - verbose: If True, print the evaluation metrics\n",
    "    - features: If True, return feature importances\n",
    "    Returns:\n",
    "    - trained_model\n",
    "    - metrics: A dictionary of test evaluation metrics \n",
    "    - cv_metrics: A dictionary of cross-validation metrics (if cv is provided)\n",
    "    - feature_importances: A Dataframe of feature importances (if features is True)\n",
    "    \"\"\"\n",
    "    # Feature eng.\n",
    "    _, train_df_eng, test_df_eng  = feature_engineering_numerical(train_df, test_df=test_df)\n",
    "    train_df_sample = train_df_eng.sample(frac=sample_split, random_state=42).reset_index(drop=True)\n",
    "    test_df_sample = test_df_eng.sample(frac=sample_split, random_state=42).reset_index(drop=True)\n",
    "\n",
    "    # Split the data into train and test sets\n",
    "    X_train_sample, X_test_sample, y_train_sample, y_test_sample = split_data(train_test=[train_df_sample, test_df_sample], shuffle=True)\n",
    "\n",
    "    # Train and evaluate the model\n",
    "    trained_model,metrics,cv_metrics = evaluate_model(estimator, X_train_sample, y_train_sample, \\\n",
    "                                        X_test_sample, y_test_sample, cv=None, verbose=verbose)\n",
    "    \n",
    "    # Get feature importances if features are selected\n",
    "    feature_importances = None\n",
    "    if features:\n",
    "        try:\n",
    "            inner_pipeline = trained_model.regressor_\n",
    "        except:\n",
    "            inner_pipeline = trained_model\n",
    "\n",
    "        encoded_feature_names = inner_pipeline.named_steps['preprocessor']\\\n",
    "        .get_feature_names_out(input_features=X_train_sample.columns)\n",
    "        selected_feature_names = inner_pipeline.named_steps['feature_selector']\\\n",
    "        .get_feature_names_out(input_features=encoded_feature_names)\n",
    "\n",
    "        feature_importances = get_feature_importances(inner_pipeline, feature_names=selected_feature_names)\n",
    "\n",
    "    return trained_model,metrics,cv_metrics,feature_importances\n",
    "\n",
    "\n",
    "# Create a pipeline with preprocessing, feature selction and model\n",
    "preprocessor = make_column_transformer(\n",
    "    (OneHotEncoder(handle_unknown='ignore'), categorical_features),\n",
    "    (StandardScaler(with_mean=False), numerical_features),\n",
    "    remainder='passthrough',\n",
    "    verbose_feature_names_out=False\n",
    ")\n",
    "\n",
    "preprocessors['label+ordinal'] = ColumnTransformer(\n",
    "    transformers=[\n",
    "        ('num', Pipeline([\n",
    "            ('imputer', SimpleImputer(strategy='median')),  # Impute NaNs\n",
    "            ('scaler', 'passthrough')\n",
    "        ]), numerical_features.tolist()),\n",
    "        ('cat_ordered', Pipeline([\n",
    "            ('imputer', SimpleImputer(strategy='most_frequent')),  # Mode imputation for categorical\n",
    "            ('ordered', OrdinalEncoder(categories=cat_values[0][ordered_columns].to_list(),\n",
    "                                   handle_unknown='use_encoded_value', \n",
    "                                   unknown_value=-1))]), ordered_columns),\n",
    "        ('cat_unordered', Pipeline([\n",
    "            ('imputer', SimpleImputer(strategy='most_frequent')),  # Mode imputation for categorical\n",
    "            ('unordered', OrdinalEncoder(handle_unknown='use_encoded_value',\n",
    "                                     unknown_value=-1))]), unordered_columns)\n",
    "    ], remainder='passthrough')\n",
    "preprocessor_for_trees = preprocessors['label+ordinal']\n"
   ]
  },
  {
   "cell_type": "code",
   "execution_count": null,
   "metadata": {},
   "outputs": [],
   "source": [
    "\n",
    "base_model = Pipeline([\n",
    "    ('preprocessor', preprocessor_for_trees),\n",
    "    ('feature_selector', feature_selector_sfm),\n",
    "    ('rf_model', RandomForestRegressor(n_estimators=20, random_state=42)),\n",
    "])\n",
    "\n",
    "# Train and evaluate the pipeline \n",
    "trained_base_model,_,_,feat_importances = train_evaluate_pipeline(base_model, train_df, test_df, sample_split=1, features=True, verbose=True)\n",
    "print(feat_importances.head(10))\n",
    "\n",
    "# Save the model\n",
    "save_model(trained_base_model, 'base_model')"
   ]
  },
  {
   "cell_type": "markdown",
   "metadata": {},
   "source": [
    "### B. Model Selection"
   ]
  },
  {
   "cell_type": "markdown",
   "metadata": {},
   "source": [
    "#### i) Comapare multiple models"
   ]
  },
  {
   "cell_type": "code",
   "execution_count": 87,
   "metadata": {},
   "outputs": [],
   "source": [
    "# Preprocess DATA and SAMPLE\n",
    "sample_split = 0.3\n",
    "_, train_df_eng,_  = feature_engineering_numerical(train_df)\n",
    "train_df_sample = train_df_eng.sample(frac=sample_split, random_state=42).reset_index(drop=True)\n",
    "X_train_sample, y_train_sample = train_df_sample.drop('total_sales_price', axis=1), train_df_sample['total_sales_price']"
   ]
  },
  {
   "cell_type": "code",
   "execution_count": 89,
   "metadata": {
    "execution": {
     "iopub.execute_input": "2025-04-18T20:14:13.372518Z",
     "iopub.status.busy": "2025-04-18T20:14:13.372518Z",
     "iopub.status.idle": "2025-04-18T20:16:54.792817Z",
     "shell.execute_reply": "2025-04-18T20:16:54.791820Z",
     "shell.execute_reply.started": "2025-04-18T20:14:13.372518Z"
    }
   },
   "outputs": [
    {
     "name": "stdout",
     "output_type": "stream",
     "text": [
      "\n",
      "LinearRegression\n",
      "with log transformation\n",
      "[CV] END  mae: (test=-2693102.819) medae: (test=-748.020) r2: (test=-75870735.168) rmse: (test=-234207626.892) total time=   0.3s\n",
      "[CV] END  mae: (test=-341479665.999) medae: (test=-736.455) r2: (test=-1370579933938.135) rmse: (test=-30583415755.233) total time=   0.3s\n",
      "[CV] END  mae: (test=-36143729.873) medae: (test=-741.851) r2: (test=-15163652047.810) rmse: (test=-3107024126.671) total time=   0.3s\n",
      "[CV] END  mae: (test=-7650348.683) medae: (test=-722.067) r2: (test=-204948925.705) rmse: (test=-469325721.705) total time=   0.3s\n",
      "[CV] END  mae: (test=-13805984.721) medae: (test=-739.259) r2: (test=-2374005323.039) rmse: (test=-1219511470.005) total time=   0.3s\n",
      "\n",
      "RidgeCV\n",
      "with log transformation\n",
      "[CV] END  mae: (test=-2602204.267) medae: (test=-748.285) r2: (test=-70782391.327) rmse: (test=-226217658.636) total time=   0.4s\n",
      "[CV] END  mae: (test=-325039789.842) medae: (test=-737.027) r2: (test=-1241715550962.698) rmse: (test=-29110178205.800) total time=   0.3s\n",
      "[CV] END  mae: (test=-34524013.952) medae: (test=-742.613) r2: (test=-13825262289.382) rmse: (test=-2966739474.062) total time=   0.3s\n",
      "[CV] END  mae: (test=-7384656.673) medae: (test=-723.671) r2: (test=-191337842.031) rmse: (test=-453473558.991) total time=   0.3s\n",
      "[CV] END  mae: (test=-13178398.444) medae: (test=-739.975) r2: (test=-2161720347.881) rmse: (test=-1163710091.458) total time=   0.4s\n",
      "\n",
      "DecisionTreeRegressor\n",
      "with log transformation\n",
      "[CV] END  mae: (test=-1394.063) medae: (test=-149.024) r2: (test=0.832) rmse: (test=-11013.704) total time=   0.4s\n",
      "[CV] END  mae: (test=-1650.931) medae: (test=-141.407) r2: (test=0.570) rmse: (test=-17139.853) total time=   0.3s\n",
      "[CV] END  mae: (test=-1475.908) medae: (test=-145.592) r2: (test=0.836) rmse: (test=-10214.306) total time=   0.3s\n",
      "[CV] END  mae: (test=-1702.842) medae: (test=-143.677) r2: (test=0.735) rmse: (test=-16889.233) total time=   0.3s\n",
      "[CV] END  mae: (test=-1156.341) medae: (test=-146.705) r2: (test=0.883) rmse: (test=-8552.524) total time=   0.4s\n",
      "\n",
      "RandomForestRegressor\n",
      "with log transformation\n",
      "[CV] END  mae: (test=-1218.233) medae: (test=-118.448) r2: (test=0.695) rmse: (test=-14851.020) total time=   3.1s\n",
      "[CV] END  mae: (test=-1223.869) medae: (test=-118.496) r2: (test=0.835) rmse: (test=-10612.773) total time=   3.6s\n",
      "[CV] END  mae: (test=-1165.771) medae: (test=-121.704) r2: (test=0.873) rmse: (test=-9007.558) total time=   3.0s\n",
      "[CV] END  mae: (test=-1329.595) medae: (test=-118.973) r2: (test=0.757) rmse: (test=-16176.282) total time=   3.0s\n",
      "[CV] END  mae: (test=-968.178) medae: (test=-122.560) r2: (test=0.769) rmse: (test=-12027.207) total time=   3.1s\n",
      "\n",
      "KNeighborsRegressor\n",
      "with log transformation\n",
      "[CV] END  mae: (test=-3346.568) medae: (test=-561.825) r2: (test=0.448) rmse: (test=-19978.434) total time=   0.6s\n",
      "[CV] END  mae: (test=-3448.470) medae: (test=-574.100) r2: (test=0.613) rmse: (test=-16247.963) total time=   0.6s\n",
      "[CV] END  mae: (test=-3377.295) medae: (test=-574.578) r2: (test=0.624) rmse: (test=-15477.107) total time=   0.6s\n",
      "[CV] END  mae: (test=-3676.576) medae: (test=-577.448) r2: (test=0.541) rmse: (test=-22207.331) total time=   0.7s\n",
      "[CV] END  mae: (test=-3024.477) medae: (test=-567.936) r2: (test=0.562) rmse: (test=-16559.564) total time=   0.7s\n",
      "\n",
      "SGDRegressor\n",
      "with log transformation\n",
      "[CV] END  mae: (test=-6942139.207) medae: (test=-761.116) r2: (test=-513337081.681) rmse: (test=-609207447.204) total time=   0.4s\n",
      "[CV] END  mae: (test=-522036292.883) medae: (test=-608.687) r2: (test=-3205334602633.778) rmse: (test=-46770336007.297) total time=   0.4s\n",
      "[CV] END  mae: (test=-52788992.795) medae: (test=-868.543) r2: (test=-32688756213.207) rmse: (test=-4561859638.901) total time=   0.4s\n",
      "[CV] END  mae: (test=-4038669.883) medae: (test=-850.195) r2: (test=-63072673.909) rmse: (test=-260358737.772) total time=   0.6s\n",
      "[CV] END  mae: (test=-15454175.618) medae: (test=-884.740) r2: (test=-2983827309.681) rmse: (test=-1367199489.145) total time=   0.8s\n",
      "\n",
      "XGBRegressor\n",
      "with log transformation\n",
      "[CV] END  mae: (test=-1491.234) medae: (test=-151.381) r2: (test=0.637) rmse: (test=-16201.745) total time=   0.3s\n",
      "[CV] END  mae: (test=-1552.549) medae: (test=-147.069) r2: (test=0.744) rmse: (test=-13220.386) total time=   0.3s\n",
      "[CV] END  mae: (test=-1544.039) medae: (test=-151.448) r2: (test=0.710) rmse: (test=-13596.719) total time=   0.4s\n",
      "[CV] END  mae: (test=-1976.325) medae: (test=-147.260) r2: (test=0.548) rmse: (test=-22044.467) total time=   0.3s\n",
      "[CV] END  mae: (test=-1348.062) medae: (test=-152.516) r2: (test=0.639) rmse: (test=-15036.367) total time=   0.3s\n",
      "\n",
      "GradientBoostingRegressor\n",
      "with log transformation\n",
      "[CV] END  mae: (test=-3926.498) medae: (test=-541.685) r2: (test=0.132) rmse: (test=-25052.941) total time=   0.6s\n",
      "[CV] END  mae: (test=-4176.079) medae: (test=-562.988) r2: (test=0.164) rmse: (test=-23884.483) total time=   0.5s\n",
      "[CV] END  mae: (test=-4037.168) medae: (test=-562.380) r2: (test=0.173) rmse: (test=-22949.048) total time=   0.6s\n",
      "[CV] END  mae: (test=-4561.924) medae: (test=-540.854) r2: (test=0.117) rmse: (test=-30799.054) total time=   0.6s\n",
      "[CV] END  mae: (test=-3599.986) medae: (test=-553.780) r2: (test=0.154) rmse: (test=-23026.793) total time=   0.5s\n",
      "\n",
      "ExtraTreesRegressor\n",
      "with log transformation\n",
      "[CV] END  mae: (test=-1215.507) medae: (test=-122.533) r2: (test=0.727) rmse: (test=-14061.242) total time=   2.9s\n",
      "[CV] END  mae: (test=-1176.182) medae: (test=-120.919) r2: (test=0.844) rmse: (test=-10326.270) total time=   2.7s\n",
      "[CV] END  mae: (test=-1119.080) medae: (test=-121.051) r2: (test=0.883) rmse: (test=-8631.262) total time=   2.7s\n",
      "[CV] END  mae: (test=-1347.753) medae: (test=-120.286) r2: (test=0.793) rmse: (test=-14931.394) total time=   2.7s\n",
      "[CV] END  mae: (test=-1007.304) medae: (test=-121.134) r2: (test=0.746) rmse: (test=-12622.075) total time=   2.6s\n",
      "\n",
      "AdaBoostRegressor\n",
      "with log transformation\n",
      "[CV] END  mae: (test=-2952.861) medae: (test=-430.625) r2: (test=0.411) rmse: (test=-20628.713) total time=   0.6s\n",
      "[CV] END  mae: (test=-2936.557) medae: (test=-432.823) r2: (test=0.522) rmse: (test=-18060.366) total time=   0.7s\n",
      "[CV] END  mae: (test=-2752.974) medae: (test=-429.160) r2: (test=0.555) rmse: (test=-16834.506) total time=   0.6s\n",
      "[CV] END  mae: (test=-3319.863) medae: (test=-445.056) r2: (test=0.435) rmse: (test=-24634.766) total time=   0.6s\n",
      "[CV] END  mae: (test=-2494.031) medae: (test=-433.874) r2: (test=0.529) rmse: (test=-17176.959) total time=   0.7s\n"
     ]
    }
   ],
   "source": [
    "# Building Pipelines\n",
    "lr = LinearRegression()\n",
    "model_svm = svm.SVR(kernel='linear')\n",
    "ridge = RidgeCV(alphas=(np.logspace(-3, 3, 10)))\n",
    "dtr = DecisionTreeRegressor(max_depth=12)\n",
    "rf = RandomForestRegressor(n_estimators=10)\n",
    "knn = KNeighborsRegressor(n_neighbors=10)\n",
    "sgd = SGDRegressor(fit_intercept=False)\n",
    "xgb = XGBRegressor(n_estimators=10)\n",
    "gb = GradientBoostingRegressor(n_estimators=10)\n",
    "hgb = HistGradientBoostingRegressor(max_iter=100, max_depth=12)\n",
    "et = ExtraTreesRegressor(n_estimators=10)\n",
    "ada = AdaBoostRegressor(n_estimators=10)\n",
    "\n",
    "# evaluate the models using cross-validation\n",
    "cv = KFold(n_splits=5, shuffle=True, random_state=42)\n",
    "models = [lr, ridge, dtr, rf, knn, sgd, xgb, gb, et, ada]\n",
    "log_transform = True\n",
    "no_log_transform = False\n",
    "\n",
    "for model in models:\n",
    "    print(f\"\\n{model.__class__.__name__}\")\n",
    "    estimator = make_pipeline(preprocessor_for_trees, model)\n",
    "    if log_transform:\n",
    "        print(\"with log transformation\")\n",
    "        full_pipline = TransformedTargetRegressor(\n",
    "            regressor=estimator,\n",
    "            func=np.log1p,\n",
    "            inverse_func=np.expm1)\n",
    "        res = cross_validate_model(full_pipline, X_train_sample,y_train_sample, cv=cv)\n",
    "    if no_log_transform:\n",
    "        print(\"\\nwithout log transform\\n\")\n",
    "        res2 = cross_validate_model(estimator, X_train_sample,y_train_sample, cv=cv, log_transform = not no_log_transform)\n"
   ]
  },
  {
   "cell_type": "markdown",
   "metadata": {},
   "source": [
    "**Note:**\n",
    "We can see that out of all the models we've tested above, extra trees regressor is the best one followed by random forest regressor and hist gradient boosting regressor; which corroborates our predicted best model type of tree regressors.\n"
   ]
  },
  {
   "cell_type": "markdown",
   "metadata": {},
   "source": [
    "#### ii) Cross Validate with Hyper Parameter Tuning"
   ]
  },
  {
   "cell_type": "code",
   "execution_count": 120,
   "metadata": {
    "execution": {
     "iopub.execute_input": "2025-04-18T20:17:22.540842Z",
     "iopub.status.busy": "2025-04-18T20:17:22.540842Z",
     "iopub.status.idle": "2025-04-18T20:17:22.649507Z",
     "shell.execute_reply": "2025-04-18T20:17:22.648505Z",
     "shell.execute_reply.started": "2025-04-18T20:17:22.540842Z"
    }
   },
   "outputs": [
    {
     "name": "stdout",
     "output_type": "stream",
     "text": [
      "Fitting 3 folds for each of 100 candidates, totalling 300 fits\n",
      "Best params: {'feature_selector__max_features': 10, 'extratreesregressor__n_estimators': 200, 'extratreesregressor__min_samples_split': 2, 'extratreesregressor__min_samples_leaf': 1, 'extratreesregressor__max_features': None, 'extratreesregressor__max_depth': 16}\n"
     ]
    },
    {
     "data": {
      "text/plain": [
       "'\\n# Display the best parameters and scores\\nprint(f\"Best Params: {random_search.best_params_}\")\\nprint(f\"Best Score: {random_search.best_score_}\")\\n\\n'"
      ]
     },
     "execution_count": 120,
     "metadata": {},
     "output_type": "execute_result"
    }
   ],
   "source": [
    "# Hyperparameter tuning for ExtraTreesRegressor\n",
    "param_grid = {\n",
    "    'feature_selector__max_features': [5, 10],\n",
    "    'extratreesregressor__n_estimators': [100,200],\n",
    "    'extratreesregressor__max_depth': [None, 16, 32],\n",
    "    'extratreesregressor__max_features': [None, 'sqrt','log2'],\n",
    "    'extratreesregressor__min_samples_split': [2, 4, 6],\n",
    "    'extratreesregressor__min_samples_leaf': [1, 2],    \n",
    "}\n",
    "\n",
    "# Preprocessing\n",
    "num_pipeline = make_pipeline(StandardScalar())\n",
    "cat_pipeline = make_pipeline(OneHotEncoder(handle_unknown='ignore', drop='first'))\n",
    "preprocessor = make_column_transformer(\n",
    "    (num_pipeline, train_df_eng.select_dtypes(exclude='object').columns.drop('total_sales_price')),\n",
    "    (cat_pipeline, train_df.select_dtypes(include='object').columns),\n",
    "    remainder='passthrough',\n",
    "    verbose_feature_names_out=False)\n",
    "\n",
    "scoring_forCV = {\n",
    "    'mse': 'neg_mean_squared_error',\n",
    "    'rmse': 'neg_root_mean_squared_error',}\n",
    "\n",
    "# Randomized search\n",
    "et = ExtraTreesRegressor(random_state=42)\n",
    "pipe_et = Pipeline([\n",
    "    ('preprocessor', preprocessor_for_trees),\n",
    "    ('feature_selector', SelectFromModel(estimator=et, max_features=10, threshold=-np.inf)),\n",
    "    ('extratreesregressor', et)\n",
    "])\n",
    "\n",
    "random_search = RandomizedSearchCV(\n",
    "    pipe_et, param_grid,\n",
    "    n_iter=100, cv=3, n_jobs=-1, verbose=3, \n",
    "    scoring=scoring_forCV, \n",
    "    refit='mse',\n",
    "    random_state=42)\n",
    "\n",
    "\n",
    "random_search.fit(X_train_sample, y_train_sample)\n",
    "\n",
    "# Get the best estimator\n",
    "search = random_search.best_estimator_\n",
    "print(\"Best params:\", random_search.best_params_)\n",
    "save_model(search, 'et_best_hyperparams')\n"
   ]
  },
  {
   "cell_type": "code",
   "execution_count": null,
   "metadata": {},
   "outputs": [],
   "source": []
  },
  {
   "cell_type": "markdown",
   "metadata": {},
   "source": [
    "## 7. Final Model Training and Evaluation"
   ]
  },
  {
   "cell_type": "markdown",
   "metadata": {},
   "source": [
    "#### i) Training the best model"
   ]
  },
  {
   "cell_type": "code",
   "execution_count": null,
   "metadata": {
    "execution": {
     "iopub.execute_input": "2025-04-18T20:17:22.650523Z",
     "iopub.status.busy": "2025-04-18T20:17:22.650523Z",
     "iopub.status.idle": "2025-04-18T20:17:22.664959Z",
     "shell.execute_reply": "2025-04-18T20:17:22.663958Z",
     "shell.execute_reply.started": "2025-04-18T20:17:22.650523Z"
    }
   },
   "outputs": [],
   "source": [
    "# Best Params: {'extratreesregressor__n_estimators': 100, 'extratreesregressor__min_samples_split': 6, 'extratreesregressor__min_samples_leaf': 1, 'extratreesregressor__max_features': None, 'extratreesregressor__max_depth': 32, 'extratreesregressor__criterion': 'squared_error'}\n",
    "\n",
    "# Best params: {'extratreesregressor__n_estimators': 180, 'extratreesregressor__min_samples_split': 4, 'extratreesregressor__min_samples_leaf': 1, 'extratreesregressor__max_features': None, 'extratreesregressor__max_depth': 16}\n",
    "\n",
    "# Best params: {'feature_selector__max_features': 10, 'extratreesregressor__n_estimators': 200, 'extratreesregressor__min_samples_split': 2, 'extratreesregressor__min_samples_leaf': 1, 'extratreesregressor__max_features': None, 'extratreesregressor__max_depth': 16}\n"
   ]
  },
  {
   "cell_type": "code",
   "execution_count": 152,
   "metadata": {},
   "outputs": [
    {
     "name": "stdout",
     "output_type": "stream",
     "text": [
      "[Pipeline] ...... (step 1 of 3) Processing preprocessor, total=   1.5s\n",
      "[Pipeline] .. (step 2 of 3) Processing feature_selector, total= 1.5min\n",
      "[Pipeline]  (step 3 of 3) Processing extratreesregressor, total= 2.0min\n",
      "Test Evaluation Metrics:\n",
      "MAE: 869.8771\n",
      "MSE: 68161708.8699\n",
      "RMSE: 8256.0105\n",
      "R^2: 0.9122\n",
      "MAPE: 0.0949\n",
      "MedAE: 111.8192\n",
      "{'bootstrap': False, 'ccp_alpha': 0.0, 'criterion': 'squared_error', 'max_depth': None, 'max_features': None, 'max_leaf_nodes': None, 'max_samples': None, 'min_impurity_decrease': 0.0, 'min_samples_leaf': 1, 'min_samples_split': 2, 'min_weight_fraction_leaf': 0.0, 'n_estimators': 200, 'n_jobs': None, 'oob_score': False, 'random_state': RandomState(MT19937) at 0x270EFB7C940, 'verbose': 0, 'warm_start': False}\n",
      "                                           importance\n",
      "num__carat_weight                            0.688052\n",
      "cat_ordered__color                           0.125999\n",
      "cat_ordered__clarity                         0.056354\n",
      "cat_unordered__fancy_color_dominant_color    0.041819\n",
      "cat_ordered__fancy_color_intensity           0.024040\n",
      "cat_ordered__girdle_max                      0.011518\n",
      "cat_unordered__cut                           0.010102\n",
      "cat_unordered__culet_size                    0.009219\n",
      "cat_ordered__symmetry                        0.008751\n",
      "cat_unordered__lab                           0.008437\n"
     ]
    }
   ],
   "source": [
    "# Model\n",
    "et = ExtraTreesRegressor(n_estimators=200, \n",
    "        min_samples_split=2,\n",
    "        min_samples_leaf=1,\n",
    "        max_features=None,\n",
    "        criterion='squared_error',\n",
    "        max_depth=None, random_state=rng)\n",
    "# Increase selectivity in SelectFromModel (keep only top 5 features)\n",
    "feature_selector = SelectFromModel(\n",
    "    estimator=ExtraTreesRegressor(),\n",
    "    max_features=12,  # Keep only top 5 features\n",
    "    threshold=-np.inf  # Force max_features \n",
    ")\n",
    "final_model = Pipeline([\n",
    "    ('preprocessor', preprocessor_for_trees),\n",
    "    ('feature_selector', feature_selector),\n",
    "    ('extratreesregressor', et\n",
    "    )], verbose=True)\n",
    "\n",
    "# Train the model\n",
    "trained_final_model,_,_,feature_importances = train_evaluate_pipeline(\n",
    "    final_model, df, final_test_df, verbose=True, features=True)\n",
    "print(trained_final_model.get_params()['extratreesregressor'].get_params())\n",
    "print(feature_importances.head(10))\n",
    "\n",
    "# Save model\n",
    "save_model(trained_final_model, 'final_predictive_model')\n",
    "# Save feature importances\n",
    "feature_importances.to_csv('../data/processed/final_model_feature_importances.csv')"
   ]
  },
  {
   "cell_type": "markdown",
   "metadata": {},
   "source": [
    "## 8. Prediction and Deployment"
   ]
  },
  {
   "cell_type": "code",
   "execution_count": 153,
   "metadata": {
    "execution": {
     "iopub.status.busy": "2025-04-18T21:33:39.587937Z",
     "iopub.status.idle": "2025-04-18T21:33:39.588936Z",
     "shell.execute_reply": "2025-04-18T21:33:39.588936Z",
     "shell.execute_reply.started": "2025-04-18T21:33:39.588936Z"
    }
   },
   "outputs": [
    {
     "name": "stdout",
     "output_type": "stream",
     "text": [
      "R2: 0.9122080094706675\n",
      "RMSE: 8256.01046934242\n",
      "MAE: 869.8771390045531\n",
      "MAPE: 0.09485965000378709\n"
     ]
    },
    {
     "data": {
      "image/png": "[encoded data removed]",
      "text/plain": [
       "<Figure size 640x480 with 1 Axes>"
      ]
     },
     "metadata": {},
     "output_type": "display_data"
    }
   ],
   "source": [
    "_,test_final_df_eng,_ = feature_engineering_numerical(final_test_df)\n",
    "X_test, y_test = test_final_df_eng.drop('total_sales_price', axis=1), test_final_df_eng['total_sales_price']\n",
    "\n",
    "# Load the model\n",
    "model = pickle.load(open('../models/final_predictive_model.pkl', 'rb'))\n",
    "\n",
    "# Predict on the test set\n",
    "y_pred = model.predict(X_test)\n",
    "\n",
    "# Evaluate the model\n",
    "r2 = r2_score(y_test, y_pred)\n",
    "mse = mean_squared_error(y_test, y_pred)\n",
    "mae = mean_absolute_error(y_test, y_pred)\n",
    "mape = mean_absolute_percentage_error(y_test, y_pred)\n",
    "\n",
    "print(f\"R2: {r2}\")\n",
    "print(f\"RMSE: {np.sqrt(mse)}\")\n",
    "print(f\"MAE: {mae}\")\n",
    "print(f\"MAPE: {mape}\")\n",
    "\n",
    "# Residual Analysis - check for homoscedasticity\n",
    "residuals = y_test - y_pred\n",
    "plt.scatter(y_test, residuals)\n",
    "plt.xlabel('Actual')\n",
    "plt.ylabel('Residuals')\n",
    "plt.title('Residuals vs Actual')\n",
    "plt.show()"
   ]
  },
  {
   "cell_type": "code",
   "execution_count": 154,
   "metadata": {
    "execution": {
     "iopub.status.busy": "2025-04-18T21:33:39.589936Z",
     "iopub.status.idle": "2025-04-18T21:33:39.590937Z",
     "shell.execute_reply": "2025-04-18T21:33:39.589936Z",
     "shell.execute_reply.started": "2025-04-18T21:33:39.589936Z"
    }
   },
   "outputs": [
    {
     "data": {
      "image/png": "[encoded data removed]",
      "text/plain": [
       "<Figure size 5000x1000 with 1 Axes>"
      ]
     },
     "metadata": {},
     "output_type": "display_data"
    }
   ],
   "source": [
    "# Plot the model\n",
    "y_pred = y_pred.reshape(y_test.shape[0], 1)\n",
    "y_test = y_test.to_numpy().reshape(y_test.shape[0], 1)\n",
    "plt.figure(figsize=(50,10))\n",
    "plt.plot(y_pred[3100:3270], 'b+-', label='predicted', linewidth=3)\n",
    "plt.plot(y_test[3100:3270],'ro--',label='actual', linewidth=3)\n",
    "plt.legend()\n",
    "plt.show()"
   ]
  },
  {
   "cell_type": "code",
   "execution_count": 155,
   "metadata": {},
   "outputs": [],
   "source": [
    "new_diamond = pd.DataFrame({\n",
    "    'carat_weight': [1.5],\n",
    "    'cut': ['Ideal'],\n",
    "    'color': ['D']\n",
    "})\n",
    "\n",
    "# model.predict(new_diamond)  "
   ]
  },
  {
   "cell_type": "code",
   "execution_count": null,
   "metadata": {},
   "outputs": [],
   "source": []
  }
 ],
 "metadata": {
  "kernelspec": {
   "display_name": "ml_env",
   "language": "python",
   "name": "python3"
  },
  "language_info": {
   "codemirror_mode": {
    "name": "ipython",
    "version": 3
   },
   "file_extension": ".py",
   "mimetype": "text/x-python",
   "name": "python",
   "nbconvert_exporter": "python",
   "pygments_lexer": "ipython3",
   "version": "3.8.20"
  },
  "toc": {
   "base_numbering": 1
  },
  "widgets": {
   "application/vnd.jupyter.widget-state+json": {
    "state": {},
    "version_major": 2,
    "version_minor": 0
   }
  }
 },
 "nbformat": 4,
 "nbformat_minor": 4
}
